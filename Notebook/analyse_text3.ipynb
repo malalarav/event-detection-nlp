{
  "nbformat": 4,
  "nbformat_minor": 0,
  "metadata": {
    "colab": {
      "provenance": [],
      "gpuType": "T4"
    },
    "kernelspec": {
      "name": "python3",
      "display_name": "Python 3"
    },
    "language_info": {
      "name": "python"
    },
    "accelerator": "GPU",
    "widgets": {
      "application/vnd.jupyter.widget-state+json": {
        "1ebf1cf97c4b457f9e444f49031f4f87": {
          "model_module": "@jupyter-widgets/controls",
          "model_name": "HBoxModel",
          "model_module_version": "1.5.0",
          "state": {
            "_dom_classes": [],
            "_model_module": "@jupyter-widgets/controls",
            "_model_module_version": "1.5.0",
            "_model_name": "HBoxModel",
            "_view_count": null,
            "_view_module": "@jupyter-widgets/controls",
            "_view_module_version": "1.5.0",
            "_view_name": "HBoxView",
            "box_style": "",
            "children": [
              "IPY_MODEL_522f8d4105f64433b3d2401dedbb5976",
              "IPY_MODEL_c77406662c1f4fc68461538b3194e83b",
              "IPY_MODEL_8d21742dbda84b79aa375853a44efaec"
            ],
            "layout": "IPY_MODEL_9cd220c9fe104056895f086eec586c4e"
          }
        },
        "522f8d4105f64433b3d2401dedbb5976": {
          "model_module": "@jupyter-widgets/controls",
          "model_name": "HTMLModel",
          "model_module_version": "1.5.0",
          "state": {
            "_dom_classes": [],
            "_model_module": "@jupyter-widgets/controls",
            "_model_module_version": "1.5.0",
            "_model_name": "HTMLModel",
            "_view_count": null,
            "_view_module": "@jupyter-widgets/controls",
            "_view_module_version": "1.5.0",
            "_view_name": "HTMLView",
            "description": "",
            "description_tooltip": null,
            "layout": "IPY_MODEL_bc958592dccd4a83b9a095ffbb8654a0",
            "placeholder": "​",
            "style": "IPY_MODEL_1fe0dd075f26475b944f27d095415bef",
            "value": "Map: 100%"
          }
        },
        "c77406662c1f4fc68461538b3194e83b": {
          "model_module": "@jupyter-widgets/controls",
          "model_name": "FloatProgressModel",
          "model_module_version": "1.5.0",
          "state": {
            "_dom_classes": [],
            "_model_module": "@jupyter-widgets/controls",
            "_model_module_version": "1.5.0",
            "_model_name": "FloatProgressModel",
            "_view_count": null,
            "_view_module": "@jupyter-widgets/controls",
            "_view_module_version": "1.5.0",
            "_view_name": "ProgressView",
            "bar_style": "success",
            "description": "",
            "description_tooltip": null,
            "layout": "IPY_MODEL_f51ca6bec6d04af99a0e5bd321e4fa8f",
            "max": 301,
            "min": 0,
            "orientation": "horizontal",
            "style": "IPY_MODEL_83a3baa1895d48aba1d5e0e749f95e87",
            "value": 301
          }
        },
        "8d21742dbda84b79aa375853a44efaec": {
          "model_module": "@jupyter-widgets/controls",
          "model_name": "HTMLModel",
          "model_module_version": "1.5.0",
          "state": {
            "_dom_classes": [],
            "_model_module": "@jupyter-widgets/controls",
            "_model_module_version": "1.5.0",
            "_model_name": "HTMLModel",
            "_view_count": null,
            "_view_module": "@jupyter-widgets/controls",
            "_view_module_version": "1.5.0",
            "_view_name": "HTMLView",
            "description": "",
            "description_tooltip": null,
            "layout": "IPY_MODEL_5d8f0317d0ff4bc5b2dbd5f9985ace72",
            "placeholder": "​",
            "style": "IPY_MODEL_3fceb16fdc3d4cb38a21cf771086c098",
            "value": " 301/301 [00:00&lt;00:00, 2415.73 examples/s]"
          }
        },
        "9cd220c9fe104056895f086eec586c4e": {
          "model_module": "@jupyter-widgets/base",
          "model_name": "LayoutModel",
          "model_module_version": "1.2.0",
          "state": {
            "_model_module": "@jupyter-widgets/base",
            "_model_module_version": "1.2.0",
            "_model_name": "LayoutModel",
            "_view_count": null,
            "_view_module": "@jupyter-widgets/base",
            "_view_module_version": "1.2.0",
            "_view_name": "LayoutView",
            "align_content": null,
            "align_items": null,
            "align_self": null,
            "border": null,
            "bottom": null,
            "display": null,
            "flex": null,
            "flex_flow": null,
            "grid_area": null,
            "grid_auto_columns": null,
            "grid_auto_flow": null,
            "grid_auto_rows": null,
            "grid_column": null,
            "grid_gap": null,
            "grid_row": null,
            "grid_template_areas": null,
            "grid_template_columns": null,
            "grid_template_rows": null,
            "height": null,
            "justify_content": null,
            "justify_items": null,
            "left": null,
            "margin": null,
            "max_height": null,
            "max_width": null,
            "min_height": null,
            "min_width": null,
            "object_fit": null,
            "object_position": null,
            "order": null,
            "overflow": null,
            "overflow_x": null,
            "overflow_y": null,
            "padding": null,
            "right": null,
            "top": null,
            "visibility": null,
            "width": null
          }
        },
        "bc958592dccd4a83b9a095ffbb8654a0": {
          "model_module": "@jupyter-widgets/base",
          "model_name": "LayoutModel",
          "model_module_version": "1.2.0",
          "state": {
            "_model_module": "@jupyter-widgets/base",
            "_model_module_version": "1.2.0",
            "_model_name": "LayoutModel",
            "_view_count": null,
            "_view_module": "@jupyter-widgets/base",
            "_view_module_version": "1.2.0",
            "_view_name": "LayoutView",
            "align_content": null,
            "align_items": null,
            "align_self": null,
            "border": null,
            "bottom": null,
            "display": null,
            "flex": null,
            "flex_flow": null,
            "grid_area": null,
            "grid_auto_columns": null,
            "grid_auto_flow": null,
            "grid_auto_rows": null,
            "grid_column": null,
            "grid_gap": null,
            "grid_row": null,
            "grid_template_areas": null,
            "grid_template_columns": null,
            "grid_template_rows": null,
            "height": null,
            "justify_content": null,
            "justify_items": null,
            "left": null,
            "margin": null,
            "max_height": null,
            "max_width": null,
            "min_height": null,
            "min_width": null,
            "object_fit": null,
            "object_position": null,
            "order": null,
            "overflow": null,
            "overflow_x": null,
            "overflow_y": null,
            "padding": null,
            "right": null,
            "top": null,
            "visibility": null,
            "width": null
          }
        },
        "1fe0dd075f26475b944f27d095415bef": {
          "model_module": "@jupyter-widgets/controls",
          "model_name": "DescriptionStyleModel",
          "model_module_version": "1.5.0",
          "state": {
            "_model_module": "@jupyter-widgets/controls",
            "_model_module_version": "1.5.0",
            "_model_name": "DescriptionStyleModel",
            "_view_count": null,
            "_view_module": "@jupyter-widgets/base",
            "_view_module_version": "1.2.0",
            "_view_name": "StyleView",
            "description_width": ""
          }
        },
        "f51ca6bec6d04af99a0e5bd321e4fa8f": {
          "model_module": "@jupyter-widgets/base",
          "model_name": "LayoutModel",
          "model_module_version": "1.2.0",
          "state": {
            "_model_module": "@jupyter-widgets/base",
            "_model_module_version": "1.2.0",
            "_model_name": "LayoutModel",
            "_view_count": null,
            "_view_module": "@jupyter-widgets/base",
            "_view_module_version": "1.2.0",
            "_view_name": "LayoutView",
            "align_content": null,
            "align_items": null,
            "align_self": null,
            "border": null,
            "bottom": null,
            "display": null,
            "flex": null,
            "flex_flow": null,
            "grid_area": null,
            "grid_auto_columns": null,
            "grid_auto_flow": null,
            "grid_auto_rows": null,
            "grid_column": null,
            "grid_gap": null,
            "grid_row": null,
            "grid_template_areas": null,
            "grid_template_columns": null,
            "grid_template_rows": null,
            "height": null,
            "justify_content": null,
            "justify_items": null,
            "left": null,
            "margin": null,
            "max_height": null,
            "max_width": null,
            "min_height": null,
            "min_width": null,
            "object_fit": null,
            "object_position": null,
            "order": null,
            "overflow": null,
            "overflow_x": null,
            "overflow_y": null,
            "padding": null,
            "right": null,
            "top": null,
            "visibility": null,
            "width": null
          }
        },
        "83a3baa1895d48aba1d5e0e749f95e87": {
          "model_module": "@jupyter-widgets/controls",
          "model_name": "ProgressStyleModel",
          "model_module_version": "1.5.0",
          "state": {
            "_model_module": "@jupyter-widgets/controls",
            "_model_module_version": "1.5.0",
            "_model_name": "ProgressStyleModel",
            "_view_count": null,
            "_view_module": "@jupyter-widgets/base",
            "_view_module_version": "1.2.0",
            "_view_name": "StyleView",
            "bar_color": null,
            "description_width": ""
          }
        },
        "5d8f0317d0ff4bc5b2dbd5f9985ace72": {
          "model_module": "@jupyter-widgets/base",
          "model_name": "LayoutModel",
          "model_module_version": "1.2.0",
          "state": {
            "_model_module": "@jupyter-widgets/base",
            "_model_module_version": "1.2.0",
            "_model_name": "LayoutModel",
            "_view_count": null,
            "_view_module": "@jupyter-widgets/base",
            "_view_module_version": "1.2.0",
            "_view_name": "LayoutView",
            "align_content": null,
            "align_items": null,
            "align_self": null,
            "border": null,
            "bottom": null,
            "display": null,
            "flex": null,
            "flex_flow": null,
            "grid_area": null,
            "grid_auto_columns": null,
            "grid_auto_flow": null,
            "grid_auto_rows": null,
            "grid_column": null,
            "grid_gap": null,
            "grid_row": null,
            "grid_template_areas": null,
            "grid_template_columns": null,
            "grid_template_rows": null,
            "height": null,
            "justify_content": null,
            "justify_items": null,
            "left": null,
            "margin": null,
            "max_height": null,
            "max_width": null,
            "min_height": null,
            "min_width": null,
            "object_fit": null,
            "object_position": null,
            "order": null,
            "overflow": null,
            "overflow_x": null,
            "overflow_y": null,
            "padding": null,
            "right": null,
            "top": null,
            "visibility": null,
            "width": null
          }
        },
        "3fceb16fdc3d4cb38a21cf771086c098": {
          "model_module": "@jupyter-widgets/controls",
          "model_name": "DescriptionStyleModel",
          "model_module_version": "1.5.0",
          "state": {
            "_model_module": "@jupyter-widgets/controls",
            "_model_module_version": "1.5.0",
            "_model_name": "DescriptionStyleModel",
            "_view_count": null,
            "_view_module": "@jupyter-widgets/base",
            "_view_module_version": "1.2.0",
            "_view_name": "StyleView",
            "description_width": ""
          }
        },
        "e0f911a8314c4e91a2ec5a00480a6f3c": {
          "model_module": "@jupyter-widgets/controls",
          "model_name": "HBoxModel",
          "model_module_version": "1.5.0",
          "state": {
            "_dom_classes": [],
            "_model_module": "@jupyter-widgets/controls",
            "_model_module_version": "1.5.0",
            "_model_name": "HBoxModel",
            "_view_count": null,
            "_view_module": "@jupyter-widgets/controls",
            "_view_module_version": "1.5.0",
            "_view_name": "HBoxView",
            "box_style": "",
            "children": [
              "IPY_MODEL_366885345af84fe2a663381a1cfe9d4b",
              "IPY_MODEL_11132f81ae504166a7de48522e4c20a6",
              "IPY_MODEL_cf3f79d34d664a05935821d729d42e80"
            ],
            "layout": "IPY_MODEL_91e9723646e7442091ae2279d5729adc"
          }
        },
        "366885345af84fe2a663381a1cfe9d4b": {
          "model_module": "@jupyter-widgets/controls",
          "model_name": "HTMLModel",
          "model_module_version": "1.5.0",
          "state": {
            "_dom_classes": [],
            "_model_module": "@jupyter-widgets/controls",
            "_model_module_version": "1.5.0",
            "_model_name": "HTMLModel",
            "_view_count": null,
            "_view_module": "@jupyter-widgets/controls",
            "_view_module_version": "1.5.0",
            "_view_name": "HTMLView",
            "description": "",
            "description_tooltip": null,
            "layout": "IPY_MODEL_d60c39a954ba4e40b9436f71ff27cb07",
            "placeholder": "​",
            "style": "IPY_MODEL_0c1bc6e6348f4da7b220e3c7e5cac6be",
            "value": "Map: 100%"
          }
        },
        "11132f81ae504166a7de48522e4c20a6": {
          "model_module": "@jupyter-widgets/controls",
          "model_name": "FloatProgressModel",
          "model_module_version": "1.5.0",
          "state": {
            "_dom_classes": [],
            "_model_module": "@jupyter-widgets/controls",
            "_model_module_version": "1.5.0",
            "_model_name": "FloatProgressModel",
            "_view_count": null,
            "_view_module": "@jupyter-widgets/controls",
            "_view_module_version": "1.5.0",
            "_view_name": "ProgressView",
            "bar_style": "success",
            "description": "",
            "description_tooltip": null,
            "layout": "IPY_MODEL_ca40c97ea100401c9a07685c7befb371",
            "max": 34,
            "min": 0,
            "orientation": "horizontal",
            "style": "IPY_MODEL_1a2ab6247ecd421ba32dd2c9e7451cc4",
            "value": 34
          }
        },
        "cf3f79d34d664a05935821d729d42e80": {
          "model_module": "@jupyter-widgets/controls",
          "model_name": "HTMLModel",
          "model_module_version": "1.5.0",
          "state": {
            "_dom_classes": [],
            "_model_module": "@jupyter-widgets/controls",
            "_model_module_version": "1.5.0",
            "_model_name": "HTMLModel",
            "_view_count": null,
            "_view_module": "@jupyter-widgets/controls",
            "_view_module_version": "1.5.0",
            "_view_name": "HTMLView",
            "description": "",
            "description_tooltip": null,
            "layout": "IPY_MODEL_c1dcb1e824de4c628b35185636666bb5",
            "placeholder": "​",
            "style": "IPY_MODEL_9217999a9f704e00b991798476c08896",
            "value": " 34/34 [00:00&lt;00:00, 769.24 examples/s]"
          }
        },
        "91e9723646e7442091ae2279d5729adc": {
          "model_module": "@jupyter-widgets/base",
          "model_name": "LayoutModel",
          "model_module_version": "1.2.0",
          "state": {
            "_model_module": "@jupyter-widgets/base",
            "_model_module_version": "1.2.0",
            "_model_name": "LayoutModel",
            "_view_count": null,
            "_view_module": "@jupyter-widgets/base",
            "_view_module_version": "1.2.0",
            "_view_name": "LayoutView",
            "align_content": null,
            "align_items": null,
            "align_self": null,
            "border": null,
            "bottom": null,
            "display": null,
            "flex": null,
            "flex_flow": null,
            "grid_area": null,
            "grid_auto_columns": null,
            "grid_auto_flow": null,
            "grid_auto_rows": null,
            "grid_column": null,
            "grid_gap": null,
            "grid_row": null,
            "grid_template_areas": null,
            "grid_template_columns": null,
            "grid_template_rows": null,
            "height": null,
            "justify_content": null,
            "justify_items": null,
            "left": null,
            "margin": null,
            "max_height": null,
            "max_width": null,
            "min_height": null,
            "min_width": null,
            "object_fit": null,
            "object_position": null,
            "order": null,
            "overflow": null,
            "overflow_x": null,
            "overflow_y": null,
            "padding": null,
            "right": null,
            "top": null,
            "visibility": null,
            "width": null
          }
        },
        "d60c39a954ba4e40b9436f71ff27cb07": {
          "model_module": "@jupyter-widgets/base",
          "model_name": "LayoutModel",
          "model_module_version": "1.2.0",
          "state": {
            "_model_module": "@jupyter-widgets/base",
            "_model_module_version": "1.2.0",
            "_model_name": "LayoutModel",
            "_view_count": null,
            "_view_module": "@jupyter-widgets/base",
            "_view_module_version": "1.2.0",
            "_view_name": "LayoutView",
            "align_content": null,
            "align_items": null,
            "align_self": null,
            "border": null,
            "bottom": null,
            "display": null,
            "flex": null,
            "flex_flow": null,
            "grid_area": null,
            "grid_auto_columns": null,
            "grid_auto_flow": null,
            "grid_auto_rows": null,
            "grid_column": null,
            "grid_gap": null,
            "grid_row": null,
            "grid_template_areas": null,
            "grid_template_columns": null,
            "grid_template_rows": null,
            "height": null,
            "justify_content": null,
            "justify_items": null,
            "left": null,
            "margin": null,
            "max_height": null,
            "max_width": null,
            "min_height": null,
            "min_width": null,
            "object_fit": null,
            "object_position": null,
            "order": null,
            "overflow": null,
            "overflow_x": null,
            "overflow_y": null,
            "padding": null,
            "right": null,
            "top": null,
            "visibility": null,
            "width": null
          }
        },
        "0c1bc6e6348f4da7b220e3c7e5cac6be": {
          "model_module": "@jupyter-widgets/controls",
          "model_name": "DescriptionStyleModel",
          "model_module_version": "1.5.0",
          "state": {
            "_model_module": "@jupyter-widgets/controls",
            "_model_module_version": "1.5.0",
            "_model_name": "DescriptionStyleModel",
            "_view_count": null,
            "_view_module": "@jupyter-widgets/base",
            "_view_module_version": "1.2.0",
            "_view_name": "StyleView",
            "description_width": ""
          }
        },
        "ca40c97ea100401c9a07685c7befb371": {
          "model_module": "@jupyter-widgets/base",
          "model_name": "LayoutModel",
          "model_module_version": "1.2.0",
          "state": {
            "_model_module": "@jupyter-widgets/base",
            "_model_module_version": "1.2.0",
            "_model_name": "LayoutModel",
            "_view_count": null,
            "_view_module": "@jupyter-widgets/base",
            "_view_module_version": "1.2.0",
            "_view_name": "LayoutView",
            "align_content": null,
            "align_items": null,
            "align_self": null,
            "border": null,
            "bottom": null,
            "display": null,
            "flex": null,
            "flex_flow": null,
            "grid_area": null,
            "grid_auto_columns": null,
            "grid_auto_flow": null,
            "grid_auto_rows": null,
            "grid_column": null,
            "grid_gap": null,
            "grid_row": null,
            "grid_template_areas": null,
            "grid_template_columns": null,
            "grid_template_rows": null,
            "height": null,
            "justify_content": null,
            "justify_items": null,
            "left": null,
            "margin": null,
            "max_height": null,
            "max_width": null,
            "min_height": null,
            "min_width": null,
            "object_fit": null,
            "object_position": null,
            "order": null,
            "overflow": null,
            "overflow_x": null,
            "overflow_y": null,
            "padding": null,
            "right": null,
            "top": null,
            "visibility": null,
            "width": null
          }
        },
        "1a2ab6247ecd421ba32dd2c9e7451cc4": {
          "model_module": "@jupyter-widgets/controls",
          "model_name": "ProgressStyleModel",
          "model_module_version": "1.5.0",
          "state": {
            "_model_module": "@jupyter-widgets/controls",
            "_model_module_version": "1.5.0",
            "_model_name": "ProgressStyleModel",
            "_view_count": null,
            "_view_module": "@jupyter-widgets/base",
            "_view_module_version": "1.2.0",
            "_view_name": "StyleView",
            "bar_color": null,
            "description_width": ""
          }
        },
        "c1dcb1e824de4c628b35185636666bb5": {
          "model_module": "@jupyter-widgets/base",
          "model_name": "LayoutModel",
          "model_module_version": "1.2.0",
          "state": {
            "_model_module": "@jupyter-widgets/base",
            "_model_module_version": "1.2.0",
            "_model_name": "LayoutModel",
            "_view_count": null,
            "_view_module": "@jupyter-widgets/base",
            "_view_module_version": "1.2.0",
            "_view_name": "LayoutView",
            "align_content": null,
            "align_items": null,
            "align_self": null,
            "border": null,
            "bottom": null,
            "display": null,
            "flex": null,
            "flex_flow": null,
            "grid_area": null,
            "grid_auto_columns": null,
            "grid_auto_flow": null,
            "grid_auto_rows": null,
            "grid_column": null,
            "grid_gap": null,
            "grid_row": null,
            "grid_template_areas": null,
            "grid_template_columns": null,
            "grid_template_rows": null,
            "height": null,
            "justify_content": null,
            "justify_items": null,
            "left": null,
            "margin": null,
            "max_height": null,
            "max_width": null,
            "min_height": null,
            "min_width": null,
            "object_fit": null,
            "object_position": null,
            "order": null,
            "overflow": null,
            "overflow_x": null,
            "overflow_y": null,
            "padding": null,
            "right": null,
            "top": null,
            "visibility": null,
            "width": null
          }
        },
        "9217999a9f704e00b991798476c08896": {
          "model_module": "@jupyter-widgets/controls",
          "model_name": "DescriptionStyleModel",
          "model_module_version": "1.5.0",
          "state": {
            "_model_module": "@jupyter-widgets/controls",
            "_model_module_version": "1.5.0",
            "_model_name": "DescriptionStyleModel",
            "_view_count": null,
            "_view_module": "@jupyter-widgets/base",
            "_view_module_version": "1.2.0",
            "_view_name": "StyleView",
            "description_width": ""
          }
        },
        "3312a8e82798427aab5968cc13416d5a": {
          "model_module": "@jupyter-widgets/controls",
          "model_name": "HBoxModel",
          "model_module_version": "1.5.0",
          "state": {
            "_dom_classes": [],
            "_model_module": "@jupyter-widgets/controls",
            "_model_module_version": "1.5.0",
            "_model_name": "HBoxModel",
            "_view_count": null,
            "_view_module": "@jupyter-widgets/controls",
            "_view_module_version": "1.5.0",
            "_view_name": "HBoxView",
            "box_style": "",
            "children": [
              "IPY_MODEL_c863152a61724c56a92708fd92825df7",
              "IPY_MODEL_724b7880b38c43b18aeefbbf3dcb2303",
              "IPY_MODEL_3eef3118b4b24a9b96ff484bd196a810"
            ],
            "layout": "IPY_MODEL_2ce6e64d84bb43bf8a779ca7090c1e2b"
          }
        },
        "c863152a61724c56a92708fd92825df7": {
          "model_module": "@jupyter-widgets/controls",
          "model_name": "HTMLModel",
          "model_module_version": "1.5.0",
          "state": {
            "_dom_classes": [],
            "_model_module": "@jupyter-widgets/controls",
            "_model_module_version": "1.5.0",
            "_model_name": "HTMLModel",
            "_view_count": null,
            "_view_module": "@jupyter-widgets/controls",
            "_view_module_version": "1.5.0",
            "_view_name": "HTMLView",
            "description": "",
            "description_tooltip": null,
            "layout": "IPY_MODEL_2ddbd3d60e80497d9853bdbd611dc83f",
            "placeholder": "​",
            "style": "IPY_MODEL_42dce33bfddf4ea4a347963af864d891",
            "value": "model.safetensors: 100%"
          }
        },
        "724b7880b38c43b18aeefbbf3dcb2303": {
          "model_module": "@jupyter-widgets/controls",
          "model_name": "FloatProgressModel",
          "model_module_version": "1.5.0",
          "state": {
            "_dom_classes": [],
            "_model_module": "@jupyter-widgets/controls",
            "_model_module_version": "1.5.0",
            "_model_name": "FloatProgressModel",
            "_view_count": null,
            "_view_module": "@jupyter-widgets/controls",
            "_view_module_version": "1.5.0",
            "_view_name": "ProgressView",
            "bar_style": "success",
            "description": "",
            "description_tooltip": null,
            "layout": "IPY_MODEL_648661814a424b6d88e26690bded7fe5",
            "max": 440449768,
            "min": 0,
            "orientation": "horizontal",
            "style": "IPY_MODEL_aa38535e05c94266b64b1708ce1f78e1",
            "value": 440449768
          }
        },
        "3eef3118b4b24a9b96ff484bd196a810": {
          "model_module": "@jupyter-widgets/controls",
          "model_name": "HTMLModel",
          "model_module_version": "1.5.0",
          "state": {
            "_dom_classes": [],
            "_model_module": "@jupyter-widgets/controls",
            "_model_module_version": "1.5.0",
            "_model_name": "HTMLModel",
            "_view_count": null,
            "_view_module": "@jupyter-widgets/controls",
            "_view_module_version": "1.5.0",
            "_view_name": "HTMLView",
            "description": "",
            "description_tooltip": null,
            "layout": "IPY_MODEL_ff6b0f3177da418ca8578a85370d85e1",
            "placeholder": "​",
            "style": "IPY_MODEL_e48b78160b66402e83415695b0f454ae",
            "value": " 440M/440M [00:01&lt;00:00, 285MB/s]"
          }
        },
        "2ce6e64d84bb43bf8a779ca7090c1e2b": {
          "model_module": "@jupyter-widgets/base",
          "model_name": "LayoutModel",
          "model_module_version": "1.2.0",
          "state": {
            "_model_module": "@jupyter-widgets/base",
            "_model_module_version": "1.2.0",
            "_model_name": "LayoutModel",
            "_view_count": null,
            "_view_module": "@jupyter-widgets/base",
            "_view_module_version": "1.2.0",
            "_view_name": "LayoutView",
            "align_content": null,
            "align_items": null,
            "align_self": null,
            "border": null,
            "bottom": null,
            "display": null,
            "flex": null,
            "flex_flow": null,
            "grid_area": null,
            "grid_auto_columns": null,
            "grid_auto_flow": null,
            "grid_auto_rows": null,
            "grid_column": null,
            "grid_gap": null,
            "grid_row": null,
            "grid_template_areas": null,
            "grid_template_columns": null,
            "grid_template_rows": null,
            "height": null,
            "justify_content": null,
            "justify_items": null,
            "left": null,
            "margin": null,
            "max_height": null,
            "max_width": null,
            "min_height": null,
            "min_width": null,
            "object_fit": null,
            "object_position": null,
            "order": null,
            "overflow": null,
            "overflow_x": null,
            "overflow_y": null,
            "padding": null,
            "right": null,
            "top": null,
            "visibility": null,
            "width": null
          }
        },
        "2ddbd3d60e80497d9853bdbd611dc83f": {
          "model_module": "@jupyter-widgets/base",
          "model_name": "LayoutModel",
          "model_module_version": "1.2.0",
          "state": {
            "_model_module": "@jupyter-widgets/base",
            "_model_module_version": "1.2.0",
            "_model_name": "LayoutModel",
            "_view_count": null,
            "_view_module": "@jupyter-widgets/base",
            "_view_module_version": "1.2.0",
            "_view_name": "LayoutView",
            "align_content": null,
            "align_items": null,
            "align_self": null,
            "border": null,
            "bottom": null,
            "display": null,
            "flex": null,
            "flex_flow": null,
            "grid_area": null,
            "grid_auto_columns": null,
            "grid_auto_flow": null,
            "grid_auto_rows": null,
            "grid_column": null,
            "grid_gap": null,
            "grid_row": null,
            "grid_template_areas": null,
            "grid_template_columns": null,
            "grid_template_rows": null,
            "height": null,
            "justify_content": null,
            "justify_items": null,
            "left": null,
            "margin": null,
            "max_height": null,
            "max_width": null,
            "min_height": null,
            "min_width": null,
            "object_fit": null,
            "object_position": null,
            "order": null,
            "overflow": null,
            "overflow_x": null,
            "overflow_y": null,
            "padding": null,
            "right": null,
            "top": null,
            "visibility": null,
            "width": null
          }
        },
        "42dce33bfddf4ea4a347963af864d891": {
          "model_module": "@jupyter-widgets/controls",
          "model_name": "DescriptionStyleModel",
          "model_module_version": "1.5.0",
          "state": {
            "_model_module": "@jupyter-widgets/controls",
            "_model_module_version": "1.5.0",
            "_model_name": "DescriptionStyleModel",
            "_view_count": null,
            "_view_module": "@jupyter-widgets/base",
            "_view_module_version": "1.2.0",
            "_view_name": "StyleView",
            "description_width": ""
          }
        },
        "648661814a424b6d88e26690bded7fe5": {
          "model_module": "@jupyter-widgets/base",
          "model_name": "LayoutModel",
          "model_module_version": "1.2.0",
          "state": {
            "_model_module": "@jupyter-widgets/base",
            "_model_module_version": "1.2.0",
            "_model_name": "LayoutModel",
            "_view_count": null,
            "_view_module": "@jupyter-widgets/base",
            "_view_module_version": "1.2.0",
            "_view_name": "LayoutView",
            "align_content": null,
            "align_items": null,
            "align_self": null,
            "border": null,
            "bottom": null,
            "display": null,
            "flex": null,
            "flex_flow": null,
            "grid_area": null,
            "grid_auto_columns": null,
            "grid_auto_flow": null,
            "grid_auto_rows": null,
            "grid_column": null,
            "grid_gap": null,
            "grid_row": null,
            "grid_template_areas": null,
            "grid_template_columns": null,
            "grid_template_rows": null,
            "height": null,
            "justify_content": null,
            "justify_items": null,
            "left": null,
            "margin": null,
            "max_height": null,
            "max_width": null,
            "min_height": null,
            "min_width": null,
            "object_fit": null,
            "object_position": null,
            "order": null,
            "overflow": null,
            "overflow_x": null,
            "overflow_y": null,
            "padding": null,
            "right": null,
            "top": null,
            "visibility": null,
            "width": null
          }
        },
        "aa38535e05c94266b64b1708ce1f78e1": {
          "model_module": "@jupyter-widgets/controls",
          "model_name": "ProgressStyleModel",
          "model_module_version": "1.5.0",
          "state": {
            "_model_module": "@jupyter-widgets/controls",
            "_model_module_version": "1.5.0",
            "_model_name": "ProgressStyleModel",
            "_view_count": null,
            "_view_module": "@jupyter-widgets/base",
            "_view_module_version": "1.2.0",
            "_view_name": "StyleView",
            "bar_color": null,
            "description_width": ""
          }
        },
        "ff6b0f3177da418ca8578a85370d85e1": {
          "model_module": "@jupyter-widgets/base",
          "model_name": "LayoutModel",
          "model_module_version": "1.2.0",
          "state": {
            "_model_module": "@jupyter-widgets/base",
            "_model_module_version": "1.2.0",
            "_model_name": "LayoutModel",
            "_view_count": null,
            "_view_module": "@jupyter-widgets/base",
            "_view_module_version": "1.2.0",
            "_view_name": "LayoutView",
            "align_content": null,
            "align_items": null,
            "align_self": null,
            "border": null,
            "bottom": null,
            "display": null,
            "flex": null,
            "flex_flow": null,
            "grid_area": null,
            "grid_auto_columns": null,
            "grid_auto_flow": null,
            "grid_auto_rows": null,
            "grid_column": null,
            "grid_gap": null,
            "grid_row": null,
            "grid_template_areas": null,
            "grid_template_columns": null,
            "grid_template_rows": null,
            "height": null,
            "justify_content": null,
            "justify_items": null,
            "left": null,
            "margin": null,
            "max_height": null,
            "max_width": null,
            "min_height": null,
            "min_width": null,
            "object_fit": null,
            "object_position": null,
            "order": null,
            "overflow": null,
            "overflow_x": null,
            "overflow_y": null,
            "padding": null,
            "right": null,
            "top": null,
            "visibility": null,
            "width": null
          }
        },
        "e48b78160b66402e83415695b0f454ae": {
          "model_module": "@jupyter-widgets/controls",
          "model_name": "DescriptionStyleModel",
          "model_module_version": "1.5.0",
          "state": {
            "_model_module": "@jupyter-widgets/controls",
            "_model_module_version": "1.5.0",
            "_model_name": "DescriptionStyleModel",
            "_view_count": null,
            "_view_module": "@jupyter-widgets/base",
            "_view_module_version": "1.2.0",
            "_view_name": "StyleView",
            "description_width": ""
          }
        },
        "ce260e43ee75401f92452ee272e7252f": {
          "model_module": "@jupyter-widgets/controls",
          "model_name": "HBoxModel",
          "model_module_version": "1.5.0",
          "state": {
            "_dom_classes": [],
            "_model_module": "@jupyter-widgets/controls",
            "_model_module_version": "1.5.0",
            "_model_name": "HBoxModel",
            "_view_count": null,
            "_view_module": "@jupyter-widgets/controls",
            "_view_module_version": "1.5.0",
            "_view_name": "HBoxView",
            "box_style": "",
            "children": [
              "IPY_MODEL_d762577d438d48279ec89a865ab1c778",
              "IPY_MODEL_249bcdef735449f48bb4b9f12c0d08d2",
              "IPY_MODEL_74ab819691dd495cb43172a1317ab504"
            ],
            "layout": "IPY_MODEL_d3ff380a99fe4bbdbb5ddb57dca98ee5"
          }
        },
        "d762577d438d48279ec89a865ab1c778": {
          "model_module": "@jupyter-widgets/controls",
          "model_name": "HTMLModel",
          "model_module_version": "1.5.0",
          "state": {
            "_dom_classes": [],
            "_model_module": "@jupyter-widgets/controls",
            "_model_module_version": "1.5.0",
            "_model_name": "HTMLModel",
            "_view_count": null,
            "_view_module": "@jupyter-widgets/controls",
            "_view_module_version": "1.5.0",
            "_view_name": "HTMLView",
            "description": "",
            "description_tooltip": null,
            "layout": "IPY_MODEL_4a33c2f9610f4e2da38ac4bed61141e6",
            "placeholder": "​",
            "style": "IPY_MODEL_9f9b6e3e85094b44bdcbf8df985fac7d",
            "value": "Saving the dataset (1/1 shards): 100%"
          }
        },
        "249bcdef735449f48bb4b9f12c0d08d2": {
          "model_module": "@jupyter-widgets/controls",
          "model_name": "FloatProgressModel",
          "model_module_version": "1.5.0",
          "state": {
            "_dom_classes": [],
            "_model_module": "@jupyter-widgets/controls",
            "_model_module_version": "1.5.0",
            "_model_name": "FloatProgressModel",
            "_view_count": null,
            "_view_module": "@jupyter-widgets/controls",
            "_view_module_version": "1.5.0",
            "_view_name": "ProgressView",
            "bar_style": "success",
            "description": "",
            "description_tooltip": null,
            "layout": "IPY_MODEL_1553fd78c71e420fa3b25d38b9744ef7",
            "max": 1053,
            "min": 0,
            "orientation": "horizontal",
            "style": "IPY_MODEL_70b037cb101a4194b7f761af4d81a421",
            "value": 1053
          }
        },
        "74ab819691dd495cb43172a1317ab504": {
          "model_module": "@jupyter-widgets/controls",
          "model_name": "HTMLModel",
          "model_module_version": "1.5.0",
          "state": {
            "_dom_classes": [],
            "_model_module": "@jupyter-widgets/controls",
            "_model_module_version": "1.5.0",
            "_model_name": "HTMLModel",
            "_view_count": null,
            "_view_module": "@jupyter-widgets/controls",
            "_view_module_version": "1.5.0",
            "_view_name": "HTMLView",
            "description": "",
            "description_tooltip": null,
            "layout": "IPY_MODEL_e1736102f1d64ec79cbce11d1cd58bc9",
            "placeholder": "​",
            "style": "IPY_MODEL_5a658ec8af4c41b387ced7094e7e2ef2",
            "value": " 1053/1053 [00:00&lt;00:00, 31671.35 examples/s]"
          }
        },
        "d3ff380a99fe4bbdbb5ddb57dca98ee5": {
          "model_module": "@jupyter-widgets/base",
          "model_name": "LayoutModel",
          "model_module_version": "1.2.0",
          "state": {
            "_model_module": "@jupyter-widgets/base",
            "_model_module_version": "1.2.0",
            "_model_name": "LayoutModel",
            "_view_count": null,
            "_view_module": "@jupyter-widgets/base",
            "_view_module_version": "1.2.0",
            "_view_name": "LayoutView",
            "align_content": null,
            "align_items": null,
            "align_self": null,
            "border": null,
            "bottom": null,
            "display": null,
            "flex": null,
            "flex_flow": null,
            "grid_area": null,
            "grid_auto_columns": null,
            "grid_auto_flow": null,
            "grid_auto_rows": null,
            "grid_column": null,
            "grid_gap": null,
            "grid_row": null,
            "grid_template_areas": null,
            "grid_template_columns": null,
            "grid_template_rows": null,
            "height": null,
            "justify_content": null,
            "justify_items": null,
            "left": null,
            "margin": null,
            "max_height": null,
            "max_width": null,
            "min_height": null,
            "min_width": null,
            "object_fit": null,
            "object_position": null,
            "order": null,
            "overflow": null,
            "overflow_x": null,
            "overflow_y": null,
            "padding": null,
            "right": null,
            "top": null,
            "visibility": null,
            "width": null
          }
        },
        "4a33c2f9610f4e2da38ac4bed61141e6": {
          "model_module": "@jupyter-widgets/base",
          "model_name": "LayoutModel",
          "model_module_version": "1.2.0",
          "state": {
            "_model_module": "@jupyter-widgets/base",
            "_model_module_version": "1.2.0",
            "_model_name": "LayoutModel",
            "_view_count": null,
            "_view_module": "@jupyter-widgets/base",
            "_view_module_version": "1.2.0",
            "_view_name": "LayoutView",
            "align_content": null,
            "align_items": null,
            "align_self": null,
            "border": null,
            "bottom": null,
            "display": null,
            "flex": null,
            "flex_flow": null,
            "grid_area": null,
            "grid_auto_columns": null,
            "grid_auto_flow": null,
            "grid_auto_rows": null,
            "grid_column": null,
            "grid_gap": null,
            "grid_row": null,
            "grid_template_areas": null,
            "grid_template_columns": null,
            "grid_template_rows": null,
            "height": null,
            "justify_content": null,
            "justify_items": null,
            "left": null,
            "margin": null,
            "max_height": null,
            "max_width": null,
            "min_height": null,
            "min_width": null,
            "object_fit": null,
            "object_position": null,
            "order": null,
            "overflow": null,
            "overflow_x": null,
            "overflow_y": null,
            "padding": null,
            "right": null,
            "top": null,
            "visibility": null,
            "width": null
          }
        },
        "9f9b6e3e85094b44bdcbf8df985fac7d": {
          "model_module": "@jupyter-widgets/controls",
          "model_name": "DescriptionStyleModel",
          "model_module_version": "1.5.0",
          "state": {
            "_model_module": "@jupyter-widgets/controls",
            "_model_module_version": "1.5.0",
            "_model_name": "DescriptionStyleModel",
            "_view_count": null,
            "_view_module": "@jupyter-widgets/base",
            "_view_module_version": "1.2.0",
            "_view_name": "StyleView",
            "description_width": ""
          }
        },
        "1553fd78c71e420fa3b25d38b9744ef7": {
          "model_module": "@jupyter-widgets/base",
          "model_name": "LayoutModel",
          "model_module_version": "1.2.0",
          "state": {
            "_model_module": "@jupyter-widgets/base",
            "_model_module_version": "1.2.0",
            "_model_name": "LayoutModel",
            "_view_count": null,
            "_view_module": "@jupyter-widgets/base",
            "_view_module_version": "1.2.0",
            "_view_name": "LayoutView",
            "align_content": null,
            "align_items": null,
            "align_self": null,
            "border": null,
            "bottom": null,
            "display": null,
            "flex": null,
            "flex_flow": null,
            "grid_area": null,
            "grid_auto_columns": null,
            "grid_auto_flow": null,
            "grid_auto_rows": null,
            "grid_column": null,
            "grid_gap": null,
            "grid_row": null,
            "grid_template_areas": null,
            "grid_template_columns": null,
            "grid_template_rows": null,
            "height": null,
            "justify_content": null,
            "justify_items": null,
            "left": null,
            "margin": null,
            "max_height": null,
            "max_width": null,
            "min_height": null,
            "min_width": null,
            "object_fit": null,
            "object_position": null,
            "order": null,
            "overflow": null,
            "overflow_x": null,
            "overflow_y": null,
            "padding": null,
            "right": null,
            "top": null,
            "visibility": null,
            "width": null
          }
        },
        "70b037cb101a4194b7f761af4d81a421": {
          "model_module": "@jupyter-widgets/controls",
          "model_name": "ProgressStyleModel",
          "model_module_version": "1.5.0",
          "state": {
            "_model_module": "@jupyter-widgets/controls",
            "_model_module_version": "1.5.0",
            "_model_name": "ProgressStyleModel",
            "_view_count": null,
            "_view_module": "@jupyter-widgets/base",
            "_view_module_version": "1.2.0",
            "_view_name": "StyleView",
            "bar_color": null,
            "description_width": ""
          }
        },
        "e1736102f1d64ec79cbce11d1cd58bc9": {
          "model_module": "@jupyter-widgets/base",
          "model_name": "LayoutModel",
          "model_module_version": "1.2.0",
          "state": {
            "_model_module": "@jupyter-widgets/base",
            "_model_module_version": "1.2.0",
            "_model_name": "LayoutModel",
            "_view_count": null,
            "_view_module": "@jupyter-widgets/base",
            "_view_module_version": "1.2.0",
            "_view_name": "LayoutView",
            "align_content": null,
            "align_items": null,
            "align_self": null,
            "border": null,
            "bottom": null,
            "display": null,
            "flex": null,
            "flex_flow": null,
            "grid_area": null,
            "grid_auto_columns": null,
            "grid_auto_flow": null,
            "grid_auto_rows": null,
            "grid_column": null,
            "grid_gap": null,
            "grid_row": null,
            "grid_template_areas": null,
            "grid_template_columns": null,
            "grid_template_rows": null,
            "height": null,
            "justify_content": null,
            "justify_items": null,
            "left": null,
            "margin": null,
            "max_height": null,
            "max_width": null,
            "min_height": null,
            "min_width": null,
            "object_fit": null,
            "object_position": null,
            "order": null,
            "overflow": null,
            "overflow_x": null,
            "overflow_y": null,
            "padding": null,
            "right": null,
            "top": null,
            "visibility": null,
            "width": null
          }
        },
        "5a658ec8af4c41b387ced7094e7e2ef2": {
          "model_module": "@jupyter-widgets/controls",
          "model_name": "DescriptionStyleModel",
          "model_module_version": "1.5.0",
          "state": {
            "_model_module": "@jupyter-widgets/controls",
            "_model_module_version": "1.5.0",
            "_model_name": "DescriptionStyleModel",
            "_view_count": null,
            "_view_module": "@jupyter-widgets/base",
            "_view_module_version": "1.2.0",
            "_view_name": "StyleView",
            "description_width": ""
          }
        }
      }
    }
  },
  "cells": [
    {
      "cell_type": "code",
      "source": [
        "#Récupération des données\n",
        "import os\n",
        "import pandas as pd\n",
        "\n",
        "from google.colab import drive\n",
        "drive.mount('/content/drive')\n",
        "\n",
        "# Chemin vers ton dossier INCEpTION dans ton Drive\n",
        "tsv_dir = \"/content/drive/MyDrive/annotation100/\"\n"
      ],
      "metadata": {
        "colab": {
          "base_uri": "https://localhost:8080/"
        },
        "id": "24zV5evt4fLr",
        "outputId": "b8cb1aaf-0066-4809-dba3-0e0d5c2fdcec"
      },
      "execution_count": null,
      "outputs": [
        {
          "output_type": "stream",
          "name": "stdout",
          "text": [
            "Mounted at /content/drive\n"
          ]
        }
      ]
    },
    {
      "cell_type": "code",
      "source": [
        "!pip install datasets"
      ],
      "metadata": {
        "colab": {
          "base_uri": "https://localhost:8080/"
        },
        "collapsed": true,
        "id": "2IWRKl2R6HAS",
        "outputId": "fc1b7e30-a4d8-48b0-a3f4-358b11eb0bce"
      },
      "execution_count": null,
      "outputs": [
        {
          "output_type": "stream",
          "name": "stdout",
          "text": [
            "Collecting datasets\n",
            "  Downloading datasets-3.5.0-py3-none-any.whl.metadata (19 kB)\n",
            "Requirement already satisfied: filelock in /usr/local/lib/python3.11/dist-packages (from datasets) (3.18.0)\n",
            "Requirement already satisfied: numpy>=1.17 in /usr/local/lib/python3.11/dist-packages (from datasets) (2.0.2)\n",
            "Requirement already satisfied: pyarrow>=15.0.0 in /usr/local/lib/python3.11/dist-packages (from datasets) (18.1.0)\n",
            "Collecting dill<0.3.9,>=0.3.0 (from datasets)\n",
            "  Downloading dill-0.3.8-py3-none-any.whl.metadata (10 kB)\n",
            "Requirement already satisfied: pandas in /usr/local/lib/python3.11/dist-packages (from datasets) (2.2.2)\n",
            "Requirement already satisfied: requests>=2.32.2 in /usr/local/lib/python3.11/dist-packages (from datasets) (2.32.3)\n",
            "Requirement already satisfied: tqdm>=4.66.3 in /usr/local/lib/python3.11/dist-packages (from datasets) (4.67.1)\n",
            "Collecting xxhash (from datasets)\n",
            "  Downloading xxhash-3.5.0-cp311-cp311-manylinux_2_17_x86_64.manylinux2014_x86_64.whl.metadata (12 kB)\n",
            "Collecting multiprocess<0.70.17 (from datasets)\n",
            "  Downloading multiprocess-0.70.16-py311-none-any.whl.metadata (7.2 kB)\n",
            "Collecting fsspec<=2024.12.0,>=2023.1.0 (from fsspec[http]<=2024.12.0,>=2023.1.0->datasets)\n",
            "  Downloading fsspec-2024.12.0-py3-none-any.whl.metadata (11 kB)\n",
            "Requirement already satisfied: aiohttp in /usr/local/lib/python3.11/dist-packages (from datasets) (3.11.15)\n",
            "Requirement already satisfied: huggingface-hub>=0.24.0 in /usr/local/lib/python3.11/dist-packages (from datasets) (0.30.2)\n",
            "Requirement already satisfied: packaging in /usr/local/lib/python3.11/dist-packages (from datasets) (24.2)\n",
            "Requirement already satisfied: pyyaml>=5.1 in /usr/local/lib/python3.11/dist-packages (from datasets) (6.0.2)\n",
            "Requirement already satisfied: aiohappyeyeballs>=2.3.0 in /usr/local/lib/python3.11/dist-packages (from aiohttp->datasets) (2.6.1)\n",
            "Requirement already satisfied: aiosignal>=1.1.2 in /usr/local/lib/python3.11/dist-packages (from aiohttp->datasets) (1.3.2)\n",
            "Requirement already satisfied: attrs>=17.3.0 in /usr/local/lib/python3.11/dist-packages (from aiohttp->datasets) (25.3.0)\n",
            "Requirement already satisfied: frozenlist>=1.1.1 in /usr/local/lib/python3.11/dist-packages (from aiohttp->datasets) (1.5.0)\n",
            "Requirement already satisfied: multidict<7.0,>=4.5 in /usr/local/lib/python3.11/dist-packages (from aiohttp->datasets) (6.4.2)\n",
            "Requirement already satisfied: propcache>=0.2.0 in /usr/local/lib/python3.11/dist-packages (from aiohttp->datasets) (0.3.1)\n",
            "Requirement already satisfied: yarl<2.0,>=1.17.0 in /usr/local/lib/python3.11/dist-packages (from aiohttp->datasets) (1.19.0)\n",
            "Requirement already satisfied: typing-extensions>=3.7.4.3 in /usr/local/lib/python3.11/dist-packages (from huggingface-hub>=0.24.0->datasets) (4.13.1)\n",
            "Requirement already satisfied: charset-normalizer<4,>=2 in /usr/local/lib/python3.11/dist-packages (from requests>=2.32.2->datasets) (3.4.1)\n",
            "Requirement already satisfied: idna<4,>=2.5 in /usr/local/lib/python3.11/dist-packages (from requests>=2.32.2->datasets) (3.10)\n",
            "Requirement already satisfied: urllib3<3,>=1.21.1 in /usr/local/lib/python3.11/dist-packages (from requests>=2.32.2->datasets) (2.3.0)\n",
            "Requirement already satisfied: certifi>=2017.4.17 in /usr/local/lib/python3.11/dist-packages (from requests>=2.32.2->datasets) (2025.1.31)\n",
            "Requirement already satisfied: python-dateutil>=2.8.2 in /usr/local/lib/python3.11/dist-packages (from pandas->datasets) (2.8.2)\n",
            "Requirement already satisfied: pytz>=2020.1 in /usr/local/lib/python3.11/dist-packages (from pandas->datasets) (2025.2)\n",
            "Requirement already satisfied: tzdata>=2022.7 in /usr/local/lib/python3.11/dist-packages (from pandas->datasets) (2025.2)\n",
            "Requirement already satisfied: six>=1.5 in /usr/local/lib/python3.11/dist-packages (from python-dateutil>=2.8.2->pandas->datasets) (1.17.0)\n",
            "Downloading datasets-3.5.0-py3-none-any.whl (491 kB)\n",
            "\u001b[2K   \u001b[90m━━━━━━━━━━━━━━━━━━━━━━━━━━━━━━━━━━━━━━━━\u001b[0m \u001b[32m491.2/491.2 kB\u001b[0m \u001b[31m8.6 MB/s\u001b[0m eta \u001b[36m0:00:00\u001b[0m\n",
            "\u001b[?25hDownloading dill-0.3.8-py3-none-any.whl (116 kB)\n",
            "\u001b[2K   \u001b[90m━━━━━━━━━━━━━━━━━━━━━━━━━━━━━━━━━━━━━━━━\u001b[0m \u001b[32m116.3/116.3 kB\u001b[0m \u001b[31m10.2 MB/s\u001b[0m eta \u001b[36m0:00:00\u001b[0m\n",
            "\u001b[?25hDownloading fsspec-2024.12.0-py3-none-any.whl (183 kB)\n",
            "\u001b[2K   \u001b[90m━━━━━━━━━━━━━━━━━━━━━━━━━━━━━━━━━━━━━━━━\u001b[0m \u001b[32m183.9/183.9 kB\u001b[0m \u001b[31m14.7 MB/s\u001b[0m eta \u001b[36m0:00:00\u001b[0m\n",
            "\u001b[?25hDownloading multiprocess-0.70.16-py311-none-any.whl (143 kB)\n",
            "\u001b[2K   \u001b[90m━━━━━━━━━━━━━━━━━━━━━━━━━━━━━━━━━━━━━━━━\u001b[0m \u001b[32m143.5/143.5 kB\u001b[0m \u001b[31m12.9 MB/s\u001b[0m eta \u001b[36m0:00:00\u001b[0m\n",
            "\u001b[?25hDownloading xxhash-3.5.0-cp311-cp311-manylinux_2_17_x86_64.manylinux2014_x86_64.whl (194 kB)\n",
            "\u001b[2K   \u001b[90m━━━━━━━━━━━━━━━━━━━━━━━━━━━━━━━━━━━━━━━━\u001b[0m \u001b[32m194.8/194.8 kB\u001b[0m \u001b[31m16.3 MB/s\u001b[0m eta \u001b[36m0:00:00\u001b[0m\n",
            "\u001b[?25hInstalling collected packages: xxhash, fsspec, dill, multiprocess, datasets\n",
            "  Attempting uninstall: fsspec\n",
            "    Found existing installation: fsspec 2025.3.2\n",
            "    Uninstalling fsspec-2025.3.2:\n",
            "      Successfully uninstalled fsspec-2025.3.2\n",
            "\u001b[31mERROR: pip's dependency resolver does not currently take into account all the packages that are installed. This behaviour is the source of the following dependency conflicts.\n",
            "gcsfs 2025.3.2 requires fsspec==2025.3.2, but you have fsspec 2024.12.0 which is incompatible.\n",
            "torch 2.6.0+cu124 requires nvidia-cublas-cu12==12.4.5.8; platform_system == \"Linux\" and platform_machine == \"x86_64\", but you have nvidia-cublas-cu12 12.5.3.2 which is incompatible.\n",
            "torch 2.6.0+cu124 requires nvidia-cuda-cupti-cu12==12.4.127; platform_system == \"Linux\" and platform_machine == \"x86_64\", but you have nvidia-cuda-cupti-cu12 12.5.82 which is incompatible.\n",
            "torch 2.6.0+cu124 requires nvidia-cuda-nvrtc-cu12==12.4.127; platform_system == \"Linux\" and platform_machine == \"x86_64\", but you have nvidia-cuda-nvrtc-cu12 12.5.82 which is incompatible.\n",
            "torch 2.6.0+cu124 requires nvidia-cuda-runtime-cu12==12.4.127; platform_system == \"Linux\" and platform_machine == \"x86_64\", but you have nvidia-cuda-runtime-cu12 12.5.82 which is incompatible.\n",
            "torch 2.6.0+cu124 requires nvidia-cudnn-cu12==9.1.0.70; platform_system == \"Linux\" and platform_machine == \"x86_64\", but you have nvidia-cudnn-cu12 9.3.0.75 which is incompatible.\n",
            "torch 2.6.0+cu124 requires nvidia-cufft-cu12==11.2.1.3; platform_system == \"Linux\" and platform_machine == \"x86_64\", but you have nvidia-cufft-cu12 11.2.3.61 which is incompatible.\n",
            "torch 2.6.0+cu124 requires nvidia-curand-cu12==10.3.5.147; platform_system == \"Linux\" and platform_machine == \"x86_64\", but you have nvidia-curand-cu12 10.3.6.82 which is incompatible.\n",
            "torch 2.6.0+cu124 requires nvidia-cusolver-cu12==11.6.1.9; platform_system == \"Linux\" and platform_machine == \"x86_64\", but you have nvidia-cusolver-cu12 11.6.3.83 which is incompatible.\n",
            "torch 2.6.0+cu124 requires nvidia-cusparse-cu12==12.3.1.170; platform_system == \"Linux\" and platform_machine == \"x86_64\", but you have nvidia-cusparse-cu12 12.5.1.3 which is incompatible.\n",
            "torch 2.6.0+cu124 requires nvidia-nvjitlink-cu12==12.4.127; platform_system == \"Linux\" and platform_machine == \"x86_64\", but you have nvidia-nvjitlink-cu12 12.5.82 which is incompatible.\u001b[0m\u001b[31m\n",
            "\u001b[0mSuccessfully installed datasets-3.5.0 dill-0.3.8 fsspec-2024.12.0 multiprocess-0.70.16 xxhash-3.5.0\n"
          ]
        }
      ]
    },
    {
      "cell_type": "code",
      "source": [
        "!pip install -q transformers datasets scikit-learn"
      ],
      "metadata": {
        "id": "J51LYjHUbmwR"
      },
      "execution_count": null,
      "outputs": []
    },
    {
      "cell_type": "code",
      "source": [
        "#Extraire les lables depuis Inception\n",
        "import os\n",
        "import re\n",
        "from collections import Counter\n",
        "\n",
        "def clean_raw_label(label):\n",
        "    label = label.strip()\n",
        "    label = re.sub(r\"\\[\\d+\\]\", \"\", label)  # supprime les [1], [2], etc.\n",
        "    label = label.replace(\"\\\\_\", \"_\")\n",
        "    return label\n",
        "\n",
        "def collect_all_raw_labels(tsv_root):\n",
        "    label_counter = Counter()\n",
        "    files_checked = 0\n",
        "\n",
        "    for root, _, files in os.walk(tsv_root):\n",
        "        for file in files:\n",
        "            if file == \"MBY3.tsv\":\n",
        "                path = os.path.join(root, file)\n",
        "                files_checked += 1\n",
        "                with open(path, encoding=\"utf-8\") as f:\n",
        "                    for line in f:\n",
        "                        if line.startswith(\"#\") or not line.strip():\n",
        "                            continue\n",
        "                        parts = line.strip().split(\"\\t\")\n",
        "                        if len(parts) >= 4:\n",
        "                            raw_label = parts[3]\n",
        "                            if raw_label and raw_label != \"_\":\n",
        "                                cleaned = clean_raw_label(raw_label)\n",
        "                                label_counter[cleaned] += 1\n",
        "\n",
        "    print(f\"🔍 Fichiers analysés : {files_checked}\")\n",
        "    return label_counter\n",
        "\n",
        "# 🔥 Appel\n",
        "label_counter = collect_all_raw_labels(tsv_dir)\n",
        "\n",
        "# 📊 Afficher tous les labels trouvés\n",
        "print(\"\\n📌 Labels trouvés dans les exports INCEpTION :\\n\")\n",
        "for label, count in label_counter.most_common():\n",
        "    print(f\"{label} : {count} occurences\")\n"
      ],
      "metadata": {
        "colab": {
          "base_uri": "https://localhost:8080/"
        },
        "id": "EsJWndeTDp-9",
        "outputId": "1f21a7c6-9c02-4156-c356-3df70905871e"
      },
      "execution_count": null,
      "outputs": [
        {
          "output_type": "stream",
          "name": "stdout",
          "text": [
            "🔍 Fichiers analysés : 101\n",
            "\n",
            "📌 Labels trouvés dans les exports INCEpTION :\n",
            "\n",
            "Conflit : 512 occurences\n",
            "Décision gouvernementale : 439 occurences\n",
            "Avancée technologique : 175 occurences\n",
            "Évenement culturelle : 91 occurences\n",
            "Décès : 52 occurences\n",
            "Conflit politique : 17 occurences\n",
            "* : 9 occurences\n",
            "Government_Decision : 1 occurences\n"
          ]
        }
      ]
    },
    {
      "cell_type": "code",
      "source": [
        "import os\n",
        "import re\n",
        "\n",
        "def clean_raw_label(label):\n",
        "    return re.sub(r\"\\[\\d+\\]\", \"\", label.strip()).replace(\"\\\\_\", \"_\")\n",
        "\n",
        "def find_label_in_files(tsv_root, target_label):\n",
        "    matching_files = []\n",
        "    files_checked = 0\n",
        "    normalized_target = clean_raw_label(target_label)\n",
        "\n",
        "    for root, _, files in os.walk(tsv_root):\n",
        "        for file in files:\n",
        "            if file == \"MBY3.tsv\":\n",
        "                path = os.path.join(root, file)\n",
        "                files_checked += 1\n",
        "                with open(path, encoding=\"utf-8\") as f:\n",
        "                    for line in f:\n",
        "                        if line.startswith(\"#\") or not line.strip():\n",
        "                            continue\n",
        "                        parts = line.strip().split(\"\\t\")\n",
        "                        if len(parts) >= 4:\n",
        "                            raw_label = parts[3]\n",
        "                            cleaned_label = clean_raw_label(raw_label)\n",
        "                            if cleaned_label == normalized_target:\n",
        "                                matching_files.append(path)\n",
        "                                break  # pas besoin de lire tout le fichier\n",
        "    return matching_files, files_checked\n",
        "\n",
        "# 📥 Paramètres\n",
        "tsv_root = tsv_dir  # <-- adapte à ton chemin\n",
        "label_to_find = \"*\"\n",
        "\n",
        "# 🔍 Rechercher\n",
        "found_files, total = find_label_in_files(tsv_root, label_to_find)\n",
        "\n",
        "print(f\"🔍 Label recherché : \\\"{label_to_find}\\\"\")\n",
        "print(f\"🔎 Fichiers analysés : {total}\")\n",
        "if found_files:\n",
        "    print(\"📁 Trouvé dans les fichiers :\")\n",
        "    for f in found_files:\n",
        "        print(\"-\", f)\n",
        "else:\n",
        "    print(\"✅ Aucun fichier ne contient ce label.\")\n"
      ],
      "metadata": {
        "colab": {
          "base_uri": "https://localhost:8080/"
        },
        "id": "CJg06KFIGiGH",
        "outputId": "1fa95ad3-6ed0-408d-b27d-a20b59724c53"
      },
      "execution_count": null,
      "outputs": [
        {
          "output_type": "stream",
          "name": "stdout",
          "text": [
            "🔍 Label recherché : \"*\"\n",
            "🔎 Fichiers analysés : 101\n",
            "📁 Trouvé dans les fichiers :\n",
            "- /content/drive/MyDrive/annotation100/text_15.txt/MBY3.tsv\n",
            "- /content/drive/MyDrive/annotation100/text_43.txt/MBY3.tsv\n",
            "- /content/drive/MyDrive/annotation100/text_40.txt/MBY3.tsv\n",
            "- /content/drive/MyDrive/annotation100/text_51.txt/MBY3.tsv\n",
            "- /content/drive/MyDrive/annotation100/text_63.txt/MBY3.tsv\n"
          ]
        }
      ]
    },
    {
      "cell_type": "code",
      "source": [
        "import os\n",
        "import re\n",
        "from datasets import Dataset\n",
        "\n",
        "# 🎯 Remap des labels spécifiques à corriger\n",
        "LABEL_REMAP = {\n",
        "    \"Government_Decision\": \"Décision gouvernementale\",\n",
        "    \"Conflit politique\": \"Conflit\",\n",
        "    \"*\": \"O\",\n",
        "    \"B-*\": \"O\",\n",
        "    \"I-*\": \"O\",\n",
        "}\n",
        "\n",
        "# ✅ Labels valides attendus depuis INCEpTION\n",
        "ALLOWED_LABELS = {\n",
        "    \"Avancée technologique\",\n",
        "    \"Conflit\",\n",
        "    \"Décès\",\n",
        "    \"Décision gouvernementale\",\n",
        "    \"Évenement culturelle\"\n",
        "}\n",
        "\n",
        "def normalize_label(label):\n",
        "    # Nettoyage des indices [1], [2], etc.\n",
        "    label = re.sub(r\"\\[\\d+\\]\", \"\", label).strip()\n",
        "    label = LABEL_REMAP.get(label, label)\n",
        "\n",
        "    # Si label BIO (B- ou I-), vérifier la base\n",
        "    if label.startswith(\"B-\") or label.startswith(\"I-\"):\n",
        "        prefix = label[:2]\n",
        "        base = label[2:].strip()\n",
        "        base = LABEL_REMAP.get(base, base)\n",
        "        if base in ALLOWED_LABELS:\n",
        "            return f\"{prefix}{base}\"\n",
        "        else:\n",
        "            return \"O\"\n",
        "\n",
        "    # Label simple autorisé → on force B- (au cas où)\n",
        "    if label in ALLOWED_LABELS:\n",
        "        return f\"B-{label}\"\n",
        "\n",
        "    if label == \"O\":\n",
        "        return \"O\"\n",
        "\n",
        "    return \"O\"\n",
        "\n",
        "def parse_and_correct_tsv(tsv_path):\n",
        "    sentences = []\n",
        "    sentence = []\n",
        "    labels = []\n",
        "    label_seq = []\n",
        "    current_entity = None\n",
        "\n",
        "    with open(tsv_path, encoding=\"utf-8\") as f:\n",
        "        for line in f:\n",
        "            line = line.strip()\n",
        "\n",
        "            if line.startswith(\"#Text=\"):\n",
        "                if sentence:\n",
        "                    sentences.append(sentence)\n",
        "                    labels.append(label_seq)\n",
        "                    sentence, label_seq = [], []\n",
        "                continue\n",
        "\n",
        "            if not line or line.startswith(\"#\"):\n",
        "                continue\n",
        "\n",
        "            parts = line.split(\"\\t\")\n",
        "            if len(parts) < 4:\n",
        "                continue\n",
        "\n",
        "            token = parts[2]\n",
        "            raw_label = parts[3]\n",
        "            clean = normalize_label(raw_label)\n",
        "\n",
        "            if clean == \"O\":\n",
        "                label = \"O\"\n",
        "                current_entity = None\n",
        "            else:\n",
        "                if current_entity == clean[2:]:\n",
        "                    label = f\"I-{clean[2:]}\"\n",
        "                else:\n",
        "                    label = clean\n",
        "                    current_entity = clean[2:]\n",
        "\n",
        "            sentence.append(token)\n",
        "            label_seq.append(label)\n",
        "\n",
        "    if sentence:\n",
        "        sentences.append(sentence)\n",
        "        labels.append(label_seq)\n",
        "\n",
        "    return {\"tokens\": sentences, \"labels\": labels}\n",
        "\n",
        "def process_all_tsv(tsv_dir):\n",
        "    all_tokens = []\n",
        "    all_labels = []\n",
        "    for root, _, files in os.walk(tsv_dir):\n",
        "        for file in files:\n",
        "            if file == \"MBY3.tsv\":\n",
        "                result = parse_and_correct_tsv(os.path.join(root, file))\n",
        "                all_tokens.extend(result[\"tokens\"])\n",
        "                all_labels.extend(result[\"labels\"])\n",
        "    return Dataset.from_dict({\"tokens\": all_tokens, \"labels\": all_labels})\n"
      ],
      "metadata": {
        "id": "NWCAA0OobsEh"
      },
      "execution_count": null,
      "outputs": []
    },
    {
      "cell_type": "code",
      "source": [
        "dataset = process_all_tsv(tsv_dir)\n",
        "\n",
        "# Optionnel : sauvegarde\n",
        "dataset.save_to_disk(\"/content/event_dataset_inception_style\")\n",
        "\n",
        "# 🔍 Vérification des labels\n",
        "from collections import Counter\n",
        "label_counter = Counter(label for row in dataset for label in row[\"labels\"])\n",
        "print(\"\\n📊 Répartition des labels :\")\n",
        "for label, count in label_counter.most_common():\n",
        "    print(f\"{label:30s} : {count}\")\n"
      ],
      "metadata": {
        "colab": {
          "base_uri": "https://localhost:8080/",
          "height": 275,
          "referenced_widgets": [
            "ce260e43ee75401f92452ee272e7252f",
            "d762577d438d48279ec89a865ab1c778",
            "249bcdef735449f48bb4b9f12c0d08d2",
            "74ab819691dd495cb43172a1317ab504",
            "d3ff380a99fe4bbdbb5ddb57dca98ee5",
            "4a33c2f9610f4e2da38ac4bed61141e6",
            "9f9b6e3e85094b44bdcbf8df985fac7d",
            "1553fd78c71e420fa3b25d38b9744ef7",
            "70b037cb101a4194b7f761af4d81a421",
            "e1736102f1d64ec79cbce11d1cd58bc9",
            "5a658ec8af4c41b387ced7094e7e2ef2"
          ]
        },
        "id": "Eo-JRi-pQsHe",
        "outputId": "bf26d9e8-f1d8-445d-8598-14b1e25dc03f"
      },
      "execution_count": null,
      "outputs": [
        {
          "output_type": "display_data",
          "data": {
            "text/plain": [
              "Saving the dataset (0/1 shards):   0%|          | 0/1053 [00:00<?, ? examples/s]"
            ],
            "application/vnd.jupyter.widget-view+json": {
              "version_major": 2,
              "version_minor": 0,
              "model_id": "ce260e43ee75401f92452ee272e7252f"
            }
          },
          "metadata": {}
        },
        {
          "output_type": "stream",
          "name": "stdout",
          "text": [
            "\n",
            "📊 Répartition des labels :\n",
            "O                              : 23510\n",
            "B-Conflit                      : 301\n",
            "B-Décision gouvernementale     : 232\n",
            "I-Conflit                      : 228\n",
            "I-Décision gouvernementale     : 207\n",
            "I-Avancée technologique        : 95\n",
            "B-Avancée technologique        : 80\n",
            "I-Évenement culturelle         : 55\n",
            "B-Évenement culturelle         : 36\n",
            "B-Décès                        : 35\n",
            "I-Décès                        : 17\n"
          ]
        }
      ]
    },
    {
      "cell_type": "code",
      "source": [
        "from datasets import DatasetDict\n",
        "\n",
        "# Split 90% train / 10% test\n",
        "dataset_split = dataset.train_test_split(test_size=0.1, seed=42)\n",
        "dataset_split = DatasetDict({\n",
        "    \"train\": dataset_split[\"train\"],\n",
        "    \"test\": dataset_split[\"test\"]\n",
        "})\n",
        "\n",
        "print(f\"📊 Train set : {len(dataset_split['train'])} exemples\")\n",
        "print(f\"📊 Test set  : {len(dataset_split['test'])} exemples\")\n"
      ],
      "metadata": {
        "colab": {
          "base_uri": "https://localhost:8080/"
        },
        "id": "z5kYCyG0bwL9",
        "outputId": "1a77037b-fd31-4454-a892-a7d84ee5763c"
      },
      "execution_count": null,
      "outputs": [
        {
          "output_type": "stream",
          "name": "stdout",
          "text": [
            "📊 Train set : 947 exemples\n",
            "📊 Test set  : 106 exemples\n"
          ]
        }
      ]
    },
    {
      "cell_type": "code",
      "source": [
        "from transformers import BertTokenizerFast\n",
        "\n",
        "tokenizer = BertTokenizerFast.from_pretrained(\"bert-base-uncased\", force_download=True)\n"
      ],
      "metadata": {
        "colab": {
          "base_uri": "https://localhost:8080/",
          "height": 350
        },
        "id": "KZiHbCM29KLg",
        "outputId": "ee98c30a-f19d-42a1-e742-68e501c841ab"
      },
      "execution_count": null,
      "outputs": [
        {
          "output_type": "error",
          "ename": "OSError",
          "evalue": "Can't load tokenizer for 'bert-base-uncased'. If you were trying to load it from 'https://huggingface.co/models', make sure you don't have a local directory with the same name. Otherwise, make sure 'bert-base-uncased' is the correct path to a directory containing all relevant files for a BertTokenizerFast tokenizer.",
          "traceback": [
            "\u001b[0;31m---------------------------------------------------------------------------\u001b[0m",
            "\u001b[0;31mOSError\u001b[0m                                   Traceback (most recent call last)",
            "\u001b[0;32m<ipython-input-15-5354066c7aab>\u001b[0m in \u001b[0;36m<cell line: 0>\u001b[0;34m()\u001b[0m\n\u001b[1;32m      1\u001b[0m \u001b[0;32mfrom\u001b[0m \u001b[0mtransformers\u001b[0m \u001b[0;32mimport\u001b[0m \u001b[0mBertTokenizerFast\u001b[0m\u001b[0;34m\u001b[0m\u001b[0;34m\u001b[0m\u001b[0m\n\u001b[1;32m      2\u001b[0m \u001b[0;34m\u001b[0m\u001b[0m\n\u001b[0;32m----> 3\u001b[0;31m \u001b[0mtokenizer\u001b[0m \u001b[0;34m=\u001b[0m \u001b[0mBertTokenizerFast\u001b[0m\u001b[0;34m.\u001b[0m\u001b[0mfrom_pretrained\u001b[0m\u001b[0;34m(\u001b[0m\u001b[0;34m\"bert-base-uncased\"\u001b[0m\u001b[0;34m,\u001b[0m \u001b[0mforce_download\u001b[0m\u001b[0;34m=\u001b[0m\u001b[0;32mTrue\u001b[0m\u001b[0;34m)\u001b[0m\u001b[0;34m\u001b[0m\u001b[0;34m\u001b[0m\u001b[0m\n\u001b[0m",
            "\u001b[0;32m/usr/local/lib/python3.11/dist-packages/transformers/tokenization_utils_base.py\u001b[0m in \u001b[0;36mfrom_pretrained\u001b[0;34m(cls, pretrained_model_name_or_path, cache_dir, force_download, local_files_only, token, revision, trust_remote_code, *init_inputs, **kwargs)\u001b[0m\n\u001b[1;32m   2044\u001b[0m         \u001b[0;31m# loaded directly from the GGUF file.\u001b[0m\u001b[0;34m\u001b[0m\u001b[0;34m\u001b[0m\u001b[0m\n\u001b[1;32m   2045\u001b[0m         \u001b[0;32mif\u001b[0m \u001b[0mall\u001b[0m\u001b[0;34m(\u001b[0m\u001b[0mfull_file_name\u001b[0m \u001b[0;32mis\u001b[0m \u001b[0;32mNone\u001b[0m \u001b[0;32mfor\u001b[0m \u001b[0mfull_file_name\u001b[0m \u001b[0;32min\u001b[0m \u001b[0mresolved_vocab_files\u001b[0m\u001b[0;34m.\u001b[0m\u001b[0mvalues\u001b[0m\u001b[0;34m(\u001b[0m\u001b[0;34m)\u001b[0m\u001b[0;34m)\u001b[0m \u001b[0;32mand\u001b[0m \u001b[0;32mnot\u001b[0m \u001b[0mgguf_file\u001b[0m\u001b[0;34m:\u001b[0m\u001b[0;34m\u001b[0m\u001b[0;34m\u001b[0m\u001b[0m\n\u001b[0;32m-> 2046\u001b[0;31m             raise EnvironmentError(\n\u001b[0m\u001b[1;32m   2047\u001b[0m                 \u001b[0;34mf\"Can't load tokenizer for '{pretrained_model_name_or_path}'. If you were trying to load it from \"\u001b[0m\u001b[0;34m\u001b[0m\u001b[0;34m\u001b[0m\u001b[0m\n\u001b[1;32m   2048\u001b[0m                 \u001b[0;34m\"'https://huggingface.co/models', make sure you don't have a local directory with the same name. \"\u001b[0m\u001b[0;34m\u001b[0m\u001b[0;34m\u001b[0m\u001b[0m\n",
            "\u001b[0;31mOSError\u001b[0m: Can't load tokenizer for 'bert-base-uncased'. If you were trying to load it from 'https://huggingface.co/models', make sure you don't have a local directory with the same name. Otherwise, make sure 'bert-base-uncased' is the correct path to a directory containing all relevant files for a BertTokenizerFast tokenizer."
          ]
        }
      ]
    },
    {
      "cell_type": "code",
      "execution_count": null,
      "metadata": {
        "colab": {
          "base_uri": "https://localhost:8080/",
          "height": 509
        },
        "id": "Lw6aMlpf4WoT",
        "outputId": "8f3e911e-8ce0-43a7-c4a0-c4a28ae0f363"
      },
      "outputs": [
        {
          "output_type": "stream",
          "name": "stderr",
          "text": [
            "/usr/local/lib/python3.11/dist-packages/huggingface_hub/utils/_auth.py:94: UserWarning: \n",
            "The secret `HF_TOKEN` does not exist in your Colab secrets.\n",
            "To authenticate with the Hugging Face Hub, create a token in your settings tab (https://huggingface.co/settings/tokens), set it as secret in your Google Colab and restart your session.\n",
            "You will be able to reuse this secret in all of your notebooks.\n",
            "Please note that authentication is recommended but still optional to access public models or datasets.\n",
            "  warnings.warn(\n"
          ]
        },
        {
          "output_type": "error",
          "ename": "OSError",
          "evalue": "Can't load tokenizer for 'bert-base-uncased'. If you were trying to load it from 'https://huggingface.co/models', make sure you don't have a local directory with the same name. Otherwise, make sure 'bert-base-uncased' is the correct path to a directory containing all relevant files for a BertTokenizerFast tokenizer.",
          "traceback": [
            "\u001b[0;31m---------------------------------------------------------------------------\u001b[0m",
            "\u001b[0;31mOSError\u001b[0m                                   Traceback (most recent call last)",
            "\u001b[0;32m<ipython-input-9-d7a2a9b97900>\u001b[0m in \u001b[0;36m<cell line: 0>\u001b[0;34m()\u001b[0m\n\u001b[1;32m      1\u001b[0m \u001b[0;32mfrom\u001b[0m \u001b[0mtransformers\u001b[0m \u001b[0;32mimport\u001b[0m \u001b[0mBertTokenizerFast\u001b[0m\u001b[0;34m\u001b[0m\u001b[0;34m\u001b[0m\u001b[0m\n\u001b[1;32m      2\u001b[0m \u001b[0;34m\u001b[0m\u001b[0m\n\u001b[0;32m----> 3\u001b[0;31m \u001b[0mtokenizer\u001b[0m \u001b[0;34m=\u001b[0m \u001b[0mBertTokenizerFast\u001b[0m\u001b[0;34m.\u001b[0m\u001b[0mfrom_pretrained\u001b[0m\u001b[0;34m(\u001b[0m\u001b[0;34m\"bert-base-uncased\"\u001b[0m\u001b[0;34m)\u001b[0m\u001b[0;34m\u001b[0m\u001b[0;34m\u001b[0m\u001b[0m\n\u001b[0m\u001b[1;32m      4\u001b[0m \u001b[0;34m\u001b[0m\u001b[0m\n\u001b[1;32m      5\u001b[0m \u001b[0;31m# Extraire les labels uniques\u001b[0m\u001b[0;34m\u001b[0m\u001b[0;34m\u001b[0m\u001b[0m\n",
            "\u001b[0;32m/usr/local/lib/python3.11/dist-packages/transformers/tokenization_utils_base.py\u001b[0m in \u001b[0;36mfrom_pretrained\u001b[0;34m(cls, pretrained_model_name_or_path, cache_dir, force_download, local_files_only, token, revision, trust_remote_code, *init_inputs, **kwargs)\u001b[0m\n\u001b[1;32m   2044\u001b[0m         \u001b[0;31m# loaded directly from the GGUF file.\u001b[0m\u001b[0;34m\u001b[0m\u001b[0;34m\u001b[0m\u001b[0m\n\u001b[1;32m   2045\u001b[0m         \u001b[0;32mif\u001b[0m \u001b[0mall\u001b[0m\u001b[0;34m(\u001b[0m\u001b[0mfull_file_name\u001b[0m \u001b[0;32mis\u001b[0m \u001b[0;32mNone\u001b[0m \u001b[0;32mfor\u001b[0m \u001b[0mfull_file_name\u001b[0m \u001b[0;32min\u001b[0m \u001b[0mresolved_vocab_files\u001b[0m\u001b[0;34m.\u001b[0m\u001b[0mvalues\u001b[0m\u001b[0;34m(\u001b[0m\u001b[0;34m)\u001b[0m\u001b[0;34m)\u001b[0m \u001b[0;32mand\u001b[0m \u001b[0;32mnot\u001b[0m \u001b[0mgguf_file\u001b[0m\u001b[0;34m:\u001b[0m\u001b[0;34m\u001b[0m\u001b[0;34m\u001b[0m\u001b[0m\n\u001b[0;32m-> 2046\u001b[0;31m             raise EnvironmentError(\n\u001b[0m\u001b[1;32m   2047\u001b[0m                 \u001b[0;34mf\"Can't load tokenizer for '{pretrained_model_name_or_path}'. If you were trying to load it from \"\u001b[0m\u001b[0;34m\u001b[0m\u001b[0;34m\u001b[0m\u001b[0m\n\u001b[1;32m   2048\u001b[0m                 \u001b[0;34m\"'https://huggingface.co/models', make sure you don't have a local directory with the same name. \"\u001b[0m\u001b[0;34m\u001b[0m\u001b[0;34m\u001b[0m\u001b[0m\n",
            "\u001b[0;31mOSError\u001b[0m: Can't load tokenizer for 'bert-base-uncased'. If you were trying to load it from 'https://huggingface.co/models', make sure you don't have a local directory with the same name. Otherwise, make sure 'bert-base-uncased' is the correct path to a directory containing all relevant files for a BertTokenizerFast tokenizer."
          ]
        }
      ],
      "source": [
        "from transformers import BertTokenizerFast\n",
        "\n",
        "tokenizer = BertTokenizerFast.from_pretrained(\"bert-base-uncased\")\n",
        "\n",
        "# Extraire les labels uniques\n",
        "unique_labels = sorted({label for row in dataset for label in row[\"labels\"]})\n",
        "label2id = {label: i for i, label in enumerate(unique_labels)}\n",
        "id2label = {i: label for label, i in label2id.items()}\n",
        "\n",
        "print(\"📌 label2id :\", label2id)\n"
      ]
    },
    {
      "cell_type": "code",
      "source": [
        "def tokenize_and_align_labels(examples):\n",
        "    tokenized_inputs = tokenizer(\n",
        "        examples[\"tokens\"],\n",
        "        truncation=True,\n",
        "        is_split_into_words=True,\n",
        "        padding=\"max_length\",\n",
        "        max_length=128\n",
        "    )\n",
        "\n",
        "    labels_batch = []\n",
        "\n",
        "    for i in range(len(examples[\"tokens\"])):\n",
        "        word_ids = tokenized_inputs.word_ids(batch_index=i)\n",
        "        labels = []\n",
        "        previous_word_idx = None\n",
        "\n",
        "        for word_idx in word_ids:\n",
        "            if word_idx is None:\n",
        "                labels.append(-100)\n",
        "            elif word_idx != previous_word_idx:\n",
        "                labels.append(label2id[examples[\"labels\"][i][word_idx]])\n",
        "            else:\n",
        "                labels.append(label2id[examples[\"labels\"][i][word_idx]])  # ou -100 pour ignorer sous-tokens\n",
        "            previous_word_idx = word_idx\n",
        "\n",
        "        labels_batch.append(labels)\n",
        "\n",
        "    tokenized_inputs[\"labels\"] = labels_batch\n",
        "    return tokenized_inputs\n",
        "\n",
        "# 🔁 Application sur le dataset\n",
        "tokenized_dataset = dataset_split.map(tokenize_and_align_labels, batched=True)\n",
        "# 🔥 Supprimer les colonnes textuelles qui bloquent le Trainer\n",
        "tokenized_dataset = tokenized_dataset.remove_columns([\"tokens\"])\n",
        "print(\"✅ Tokenisation + alignement terminés !\")\n"
      ],
      "metadata": {
        "colab": {
          "base_uri": "https://localhost:8080/",
          "height": 98,
          "referenced_widgets": [
            "1ebf1cf97c4b457f9e444f49031f4f87",
            "522f8d4105f64433b3d2401dedbb5976",
            "c77406662c1f4fc68461538b3194e83b",
            "8d21742dbda84b79aa375853a44efaec",
            "9cd220c9fe104056895f086eec586c4e",
            "bc958592dccd4a83b9a095ffbb8654a0",
            "1fe0dd075f26475b944f27d095415bef",
            "f51ca6bec6d04af99a0e5bd321e4fa8f",
            "83a3baa1895d48aba1d5e0e749f95e87",
            "5d8f0317d0ff4bc5b2dbd5f9985ace72",
            "3fceb16fdc3d4cb38a21cf771086c098",
            "e0f911a8314c4e91a2ec5a00480a6f3c",
            "366885345af84fe2a663381a1cfe9d4b",
            "11132f81ae504166a7de48522e4c20a6",
            "cf3f79d34d664a05935821d729d42e80",
            "91e9723646e7442091ae2279d5729adc",
            "d60c39a954ba4e40b9436f71ff27cb07",
            "0c1bc6e6348f4da7b220e3c7e5cac6be",
            "ca40c97ea100401c9a07685c7befb371",
            "1a2ab6247ecd421ba32dd2c9e7451cc4",
            "c1dcb1e824de4c628b35185636666bb5",
            "9217999a9f704e00b991798476c08896"
          ]
        },
        "id": "Z_dm6YTz8wRT",
        "outputId": "16bd9989-c430-4f97-bbf4-04fed4aa5135"
      },
      "execution_count": null,
      "outputs": [
        {
          "output_type": "display_data",
          "data": {
            "text/plain": [
              "Map:   0%|          | 0/301 [00:00<?, ? examples/s]"
            ],
            "application/vnd.jupyter.widget-view+json": {
              "version_major": 2,
              "version_minor": 0,
              "model_id": "1ebf1cf97c4b457f9e444f49031f4f87"
            }
          },
          "metadata": {}
        },
        {
          "output_type": "display_data",
          "data": {
            "text/plain": [
              "Map:   0%|          | 0/34 [00:00<?, ? examples/s]"
            ],
            "application/vnd.jupyter.widget-view+json": {
              "version_major": 2,
              "version_minor": 0,
              "model_id": "e0f911a8314c4e91a2ec5a00480a6f3c"
            }
          },
          "metadata": {}
        },
        {
          "output_type": "stream",
          "name": "stdout",
          "text": [
            "✅ Tokenisation + alignement terminés !\n"
          ]
        }
      ]
    },
    {
      "cell_type": "code",
      "source": [
        "print(tokenized_dataset[\"train\"].column_names)"
      ],
      "metadata": {
        "colab": {
          "base_uri": "https://localhost:8080/"
        },
        "id": "8T480qf8YW3W",
        "outputId": "cace30ad-2d26-4440-ee76-6becc753e61d"
      },
      "execution_count": null,
      "outputs": [
        {
          "output_type": "stream",
          "name": "stdout",
          "text": [
            "['labels', 'input_ids', 'token_type_ids', 'attention_mask']\n"
          ]
        }
      ]
    },
    {
      "cell_type": "code",
      "source": [
        "from transformers import AutoModelForTokenClassification, DataCollatorForTokenClassification\n",
        "from sklearn.metrics import classification_report\n",
        "import numpy as np\n",
        "\n",
        "# ✅ Chargement du modèle avec correspondance des labels\n",
        "model = AutoModelForTokenClassification.from_pretrained(\n",
        "    \"bert-base-uncased\",\n",
        "    num_labels=len(label2id),\n",
        "    id2label=id2label,\n",
        "    label2id=label2id\n",
        ")\n",
        "\n",
        "# ✅ Préparation du collator pour gérer le padding dans les batchs\n",
        "data_collator = DataCollatorForTokenClassification(tokenizer, padding=True)\n",
        "\n",
        "# ✅ Fonction pour calculer precision / recall / f1-score\n",
        "def compute_metrics(p):\n",
        "    predictions, labels = p\n",
        "    preds = np.argmax(predictions, axis=2)\n",
        "\n",
        "    true_preds = []\n",
        "    true_labels = []\n",
        "\n",
        "    for pred_seq, label_seq in zip(preds, labels):\n",
        "        for p_, l_ in zip(pred_seq, label_seq):\n",
        "            if l_ != -100:\n",
        "                true_preds.append(id2label[p_])\n",
        "                true_labels.append(id2label[l_])\n",
        "\n",
        "    report = classification_report(true_labels, true_preds, output_dict=True)\n",
        "    return {\n",
        "        \"precision\": report[\"macro avg\"][\"precision\"],\n",
        "        \"recall\": report[\"macro avg\"][\"recall\"],\n",
        "        \"f1\": report[\"macro avg\"][\"f1-score\"]\n",
        "    }\n"
      ],
      "metadata": {
        "colab": {
          "base_uri": "https://localhost:8080/",
          "height": 138,
          "referenced_widgets": [
            "3312a8e82798427aab5968cc13416d5a",
            "c863152a61724c56a92708fd92825df7",
            "724b7880b38c43b18aeefbbf3dcb2303",
            "3eef3118b4b24a9b96ff484bd196a810",
            "2ce6e64d84bb43bf8a779ca7090c1e2b",
            "2ddbd3d60e80497d9853bdbd611dc83f",
            "42dce33bfddf4ea4a347963af864d891",
            "648661814a424b6d88e26690bded7fe5",
            "aa38535e05c94266b64b1708ce1f78e1",
            "ff6b0f3177da418ca8578a85370d85e1",
            "e48b78160b66402e83415695b0f454ae"
          ]
        },
        "id": "eqngmSWn9U76",
        "outputId": "956c0528-ed44-4973-9f74-2c6a2d3dc3b2"
      },
      "execution_count": null,
      "outputs": [
        {
          "output_type": "stream",
          "name": "stderr",
          "text": [
            "Xet Storage is enabled for this repo, but the 'hf_xet' package is not installed. Falling back to regular HTTP download. For better performance, install the package with: `pip install huggingface_hub[hf_xet]` or `pip install hf_xet`\n",
            "WARNING:huggingface_hub.file_download:Xet Storage is enabled for this repo, but the 'hf_xet' package is not installed. Falling back to regular HTTP download. For better performance, install the package with: `pip install huggingface_hub[hf_xet]` or `pip install hf_xet`\n"
          ]
        },
        {
          "output_type": "display_data",
          "data": {
            "text/plain": [
              "model.safetensors:   0%|          | 0.00/440M [00:00<?, ?B/s]"
            ],
            "application/vnd.jupyter.widget-view+json": {
              "version_major": 2,
              "version_minor": 0,
              "model_id": "3312a8e82798427aab5968cc13416d5a"
            }
          },
          "metadata": {}
        },
        {
          "output_type": "stream",
          "name": "stderr",
          "text": [
            "Some weights of BertForTokenClassification were not initialized from the model checkpoint at bert-base-uncased and are newly initialized: ['classifier.bias', 'classifier.weight']\n",
            "You should probably TRAIN this model on a down-stream task to be able to use it for predictions and inference.\n"
          ]
        }
      ]
    },
    {
      "cell_type": "code",
      "source": [
        "from transformers import TrainingArguments, Trainer\n",
        "\n",
        "# ✅ Arguments d'entraînement compatibles avec versions < 5\n",
        "training_args = TrainingArguments(\n",
        "    output_dir=\"/content/event_model\",             # Où sauvegarder le modèle\n",
        "    per_device_train_batch_size=8,\n",
        "    per_device_eval_batch_size=8,\n",
        "    num_train_epochs=4,\n",
        "    weight_decay=0.01,\n",
        "    logging_dir=\"/content/logs\",                   # Logs pour TensorBoard (facultatif)\n",
        "    logging_steps=10,\n",
        "    report_to=\"none\",                              # Désactive wandb, tensorboard, etc.\n",
        "    remove_unused_columns=False,                   # Important pour les tâches token classification\n",
        "    do_eval=True                                   # Active l'évaluation à chaque epoch\n",
        ")\n",
        "\n",
        "# ✅ Trainer Hugging Face\n",
        "trainer = Trainer(\n",
        "    model=model,\n",
        "    args=training_args,\n",
        "    train_dataset=tokenized_dataset[\"train\"],\n",
        "    eval_dataset=tokenized_dataset[\"test\"],\n",
        "    tokenizer=tokenizer,                           # OK pour versions < 5\n",
        "    data_collator=data_collator,\n",
        "    compute_metrics=compute_metrics\n",
        ")\n",
        "\n",
        "# 🚀 Lancer l'entraînement\n",
        "trainer.train()\n"
      ],
      "metadata": {
        "colab": {
          "base_uri": "https://localhost:8080/",
          "height": 635
        },
        "id": "yZDwP0lXVKSa",
        "outputId": "826e563f-69fa-4d1e-e717-b4854bb77f15"
      },
      "execution_count": null,
      "outputs": [
        {
          "output_type": "stream",
          "name": "stderr",
          "text": [
            "<ipython-input-19-c05f185ea810>:18: FutureWarning: `tokenizer` is deprecated and will be removed in version 5.0.0 for `Trainer.__init__`. Use `processing_class` instead.\n",
            "  trainer = Trainer(\n"
          ]
        },
        {
          "output_type": "display_data",
          "data": {
            "text/plain": [
              "<IPython.core.display.HTML object>"
            ],
            "text/html": [
              "\n",
              "    <div>\n",
              "      \n",
              "      <progress value='152' max='152' style='width:300px; height:20px; vertical-align: middle;'></progress>\n",
              "      [152/152 00:37, Epoch 4/4]\n",
              "    </div>\n",
              "    <table border=\"1\" class=\"dataframe\">\n",
              "  <thead>\n",
              " <tr style=\"text-align: left;\">\n",
              "      <th>Step</th>\n",
              "      <th>Training Loss</th>\n",
              "    </tr>\n",
              "  </thead>\n",
              "  <tbody>\n",
              "    <tr>\n",
              "      <td>10</td>\n",
              "      <td>0.032300</td>\n",
              "    </tr>\n",
              "    <tr>\n",
              "      <td>20</td>\n",
              "      <td>0.029100</td>\n",
              "    </tr>\n",
              "    <tr>\n",
              "      <td>30</td>\n",
              "      <td>0.023400</td>\n",
              "    </tr>\n",
              "    <tr>\n",
              "      <td>40</td>\n",
              "      <td>0.024000</td>\n",
              "    </tr>\n",
              "    <tr>\n",
              "      <td>50</td>\n",
              "      <td>0.022400</td>\n",
              "    </tr>\n",
              "    <tr>\n",
              "      <td>60</td>\n",
              "      <td>0.029700</td>\n",
              "    </tr>\n",
              "    <tr>\n",
              "      <td>70</td>\n",
              "      <td>0.021300</td>\n",
              "    </tr>\n",
              "    <tr>\n",
              "      <td>80</td>\n",
              "      <td>0.016700</td>\n",
              "    </tr>\n",
              "    <tr>\n",
              "      <td>90</td>\n",
              "      <td>0.012500</td>\n",
              "    </tr>\n",
              "    <tr>\n",
              "      <td>100</td>\n",
              "      <td>0.010300</td>\n",
              "    </tr>\n",
              "    <tr>\n",
              "      <td>110</td>\n",
              "      <td>0.016000</td>\n",
              "    </tr>\n",
              "    <tr>\n",
              "      <td>120</td>\n",
              "      <td>0.008900</td>\n",
              "    </tr>\n",
              "    <tr>\n",
              "      <td>130</td>\n",
              "      <td>0.009600</td>\n",
              "    </tr>\n",
              "    <tr>\n",
              "      <td>140</td>\n",
              "      <td>0.006900</td>\n",
              "    </tr>\n",
              "    <tr>\n",
              "      <td>150</td>\n",
              "      <td>0.003800</td>\n",
              "    </tr>\n",
              "  </tbody>\n",
              "</table><p>"
            ]
          },
          "metadata": {}
        },
        {
          "output_type": "execute_result",
          "data": {
            "text/plain": [
              "TrainOutput(global_step=152, training_loss=0.017621763552980202, metrics={'train_runtime': 37.8722, 'train_samples_per_second': 31.791, 'train_steps_per_second': 4.013, 'total_flos': 78656723432448.0, 'train_loss': 0.017621763552980202, 'epoch': 4.0})"
            ]
          },
          "metadata": {},
          "execution_count": 19
        }
      ]
    },
    {
      "cell_type": "code",
      "source": [
        "trainer.evaluate()"
      ],
      "metadata": {
        "colab": {
          "base_uri": "https://localhost:8080/",
          "height": 300
        },
        "id": "SjLsGNNyZcaw",
        "outputId": "176370be-1bc7-49f0-b4f3-f02614202ff6"
      },
      "execution_count": null,
      "outputs": [
        {
          "output_type": "display_data",
          "data": {
            "text/plain": [
              "<IPython.core.display.HTML object>"
            ],
            "text/html": [
              "\n",
              "    <div>\n",
              "      \n",
              "      <progress value='5' max='5' style='width:300px; height:20px; vertical-align: middle;'></progress>\n",
              "      [5/5 00:00]\n",
              "    </div>\n",
              "    "
            ]
          },
          "metadata": {}
        },
        {
          "output_type": "stream",
          "name": "stderr",
          "text": [
            "/usr/local/lib/python3.11/dist-packages/sklearn/metrics/_classification.py:1565: UndefinedMetricWarning: Precision is ill-defined and being set to 0.0 in labels with no predicted samples. Use `zero_division` parameter to control this behavior.\n",
            "  _warn_prf(average, modifier, f\"{metric.capitalize()} is\", len(result))\n",
            "/usr/local/lib/python3.11/dist-packages/sklearn/metrics/_classification.py:1565: UndefinedMetricWarning: Precision is ill-defined and being set to 0.0 in labels with no predicted samples. Use `zero_division` parameter to control this behavior.\n",
            "  _warn_prf(average, modifier, f\"{metric.capitalize()} is\", len(result))\n",
            "/usr/local/lib/python3.11/dist-packages/sklearn/metrics/_classification.py:1565: UndefinedMetricWarning: Precision is ill-defined and being set to 0.0 in labels with no predicted samples. Use `zero_division` parameter to control this behavior.\n",
            "  _warn_prf(average, modifier, f\"{metric.capitalize()} is\", len(result))\n"
          ]
        },
        {
          "output_type": "execute_result",
          "data": {
            "text/plain": [
              "{'eval_loss': 0.4900329113006592,\n",
              " 'eval_precision': 0.37225532754538276,\n",
              " 'eval_recall': 0.23123678762122699,\n",
              " 'eval_f1': 0.2754881992656023,\n",
              " 'eval_runtime': 0.3499,\n",
              " 'eval_samples_per_second': 97.178,\n",
              " 'eval_steps_per_second': 14.291,\n",
              " 'epoch': 4.0}"
            ]
          },
          "metadata": {},
          "execution_count": 20
        }
      ]
    },
    {
      "cell_type": "code",
      "source": [
        "from transformers import pipeline\n",
        "\n",
        "# ✅ Création du pipeline avec ton modèle entraîné\n",
        "ner_pipeline = pipeline(\n",
        "    \"ner\",\n",
        "    model=model,\n",
        "    tokenizer=tokenizer,\n",
        "    aggregation_strategy=\"simple\"  # groupe les tokens sous une même entité\n",
        ")\n",
        "\n",
        "# 📝 Texte anglais à tester\n",
        "text = \"The government announced a new technology in response to the recent conflict.\"\n",
        "\n",
        "# 🔍 Prédictions du modèle\n",
        "outputs = ner_pipeline(text)\n",
        "\n",
        "# 📦 Affichage clair\n",
        "print(\"\\n🔎 Résultats NER :\\n\")\n",
        "for ent in outputs:\n",
        "    print(f\"{ent['word']} → {ent['entity_group']} (score: {ent['score']:.2f})\")\n"
      ],
      "metadata": {
        "colab": {
          "base_uri": "https://localhost:8080/"
        },
        "id": "Is2oJXVJaCfj",
        "outputId": "13e90c46-fc0a-4473-c9e8-7d9208f5cbbc"
      },
      "execution_count": null,
      "outputs": [
        {
          "output_type": "stream",
          "name": "stderr",
          "text": [
            "Device set to use cuda:0\n"
          ]
        },
        {
          "output_type": "stream",
          "name": "stdout",
          "text": [
            "\n",
            "🔎 Résultats NER :\n",
            "\n"
          ]
        }
      ]
    },
    {
      "cell_type": "code",
      "source": [
        "texts = [\n",
        "    \"The president died yesterday in an unexpected accident.\",\n",
        "    \"Firefox 1.0 has been released with innovative features.\",\n",
        "    \"The UN announced new cultural events in New York.\"\n",
        "]\n",
        "\n",
        "for t in texts:\n",
        "    print(f\"\\n📝 {t}\")\n",
        "    results = ner_pipeline(t)\n",
        "    for ent in results:\n",
        "        print(f\"{ent['word']} → {ent['entity_group']} (score: {ent['score']:.2f})\")\n"
      ],
      "metadata": {
        "colab": {
          "base_uri": "https://localhost:8080/"
        },
        "id": "_9iiZ9hqaQPz",
        "outputId": "f4ad65f1-4e2d-405d-88d0-b181a51255ea"
      },
      "execution_count": null,
      "outputs": [
        {
          "output_type": "stream",
          "name": "stdout",
          "text": [
            "\n",
            "📝 The president died yesterday in an unexpected accident.\n",
            "died → Décès (score: 0.57)\n",
            "\n",
            "📝 Firefox 1.0 has been released with innovative features.\n",
            "1 → Avancée technologique (score: 0.49)\n",
            ". → Avancée technologique (score: 0.59)\n",
            "0 → Avancée technologique (score: 0.59)\n",
            "\n",
            "📝 The UN announced new cultural events in New York.\n"
          ]
        }
      ]
    },
    {
      "cell_type": "code",
      "source": [
        "import matplotlib.pyplot as plt\n",
        "from sklearn.metrics import confusion_matrix, ConfusionMatrixDisplay\n",
        "\n",
        "# 🔁 Obtenir les prédictions du modèle\n",
        "output = trainer.predict(tokenized_dataset[\"test\"])\n",
        "predictions = output.predictions\n",
        "labels = output.label_ids\n",
        "\n",
        "preds = np.argmax(predictions, axis=2)\n",
        "\n",
        "# 🔍 Extraire les vrais/preds labels (en texte), sans les -100\n",
        "true_labels = []\n",
        "true_preds = []\n",
        "\n",
        "for pred_seq, label_seq in zip(np.argmax(predictions, axis=2), labels):\n",
        "    for p, l in zip(pred_seq, label_seq):\n",
        "        if l != -100:\n",
        "          pred_label = id2label[p]\n",
        "          true_label = id2label[l]\n",
        "\n",
        "          # 🔄 Supprimer les préfixes B-/I-\n",
        "          pred_label = pred_label.replace(\"B-\", \"\").replace(\"I-\", \"\")\n",
        "          true_label = true_label.replace(\"B-\", \"\").replace(\"I-\", \"\")\n",
        "\n",
        "          if true_label != \"O\":\n",
        "            true_preds.append(pred_label)\n",
        "            true_labels.append(true_label)\n",
        "\n",
        "# ✅ Liste des labels à afficher sans \"O\"\n",
        "label_names = list(set(true_labels))  # toutes les entités après simplification\n",
        "label_names.sort()\n",
        "\n",
        "# 📊 Créer la matrice\n",
        "cm = confusion_matrix(true_labels, true_preds, labels=label_names)\n",
        "\n",
        "# 🎨 Affichage\n",
        "disp = ConfusionMatrixDisplay(confusion_matrix=cm, display_labels=label_names)\n",
        "fig, ax = plt.subplots(figsize=(10, 8))\n",
        "disp.plot(cmap=\"Blues\", ax=ax, xticks_rotation=45)\n",
        "plt.title(\"Matrice de confusion NER (sans 'O')\")\n",
        "plt.show()\n"
      ],
      "metadata": {
        "colab": {
          "base_uri": "https://localhost:8080/",
          "height": 970
        },
        "id": "Kd16QWcSagCr",
        "outputId": "3ce259ac-b7e9-43ea-d178-371193a3bae4"
      },
      "execution_count": null,
      "outputs": [
        {
          "output_type": "display_data",
          "data": {
            "text/plain": [
              "<IPython.core.display.HTML object>"
            ],
            "text/html": []
          },
          "metadata": {}
        },
        {
          "output_type": "stream",
          "name": "stderr",
          "text": [
            "/usr/local/lib/python3.11/dist-packages/sklearn/metrics/_classification.py:1565: UndefinedMetricWarning: Precision is ill-defined and being set to 0.0 in labels with no predicted samples. Use `zero_division` parameter to control this behavior.\n",
            "  _warn_prf(average, modifier, f\"{metric.capitalize()} is\", len(result))\n",
            "/usr/local/lib/python3.11/dist-packages/sklearn/metrics/_classification.py:1565: UndefinedMetricWarning: Precision is ill-defined and being set to 0.0 in labels with no predicted samples. Use `zero_division` parameter to control this behavior.\n",
            "  _warn_prf(average, modifier, f\"{metric.capitalize()} is\", len(result))\n",
            "/usr/local/lib/python3.11/dist-packages/sklearn/metrics/_classification.py:1565: UndefinedMetricWarning: Precision is ill-defined and being set to 0.0 in labels with no predicted samples. Use `zero_division` parameter to control this behavior.\n",
            "  _warn_prf(average, modifier, f\"{metric.capitalize()} is\", len(result))\n"
          ]
        },
        {
          "output_type": "display_data",
          "data": {
            "text/plain": [
              "<Figure size 1000x800 with 2 Axes>"
            ],
            "image/png": "[encoded data removed]"
          },
          "metadata": {}
        }
      ]
    },
    {
      "cell_type": "code",
      "source": [
        "from sklearn.metrics import classification_report\n",
        "import matplotlib.pyplot as plt\n",
        "\n",
        "# Calculer le rapport\n",
        "report = classification_report(true_labels, true_preds, labels=label_names, output_dict=True, zero_division=0)\n",
        "\n",
        "# Extraire les scores F1 par entité uniquement\n",
        "f1_scores = {label: values['f1-score'] for label, values in report.items() if label in label_names}\n",
        "\n",
        "# Trier par score\n",
        "f1_scores = dict(sorted(f1_scores.items(), key=lambda x: x[1], reverse=True))\n",
        "\n",
        "# 🎨 Barplot\n",
        "plt.figure(figsize=(10, 5))\n",
        "plt.bar(f1_scores.keys(), f1_scores.values(), color='skyblue')\n",
        "plt.ylabel(\"F1-score\")\n",
        "plt.title(\"F1-score par label (sans 'O')\")\n",
        "plt.xticks(rotation=45)\n",
        "plt.ylim(0, 1)\n",
        "plt.grid(axis='y', linestyle='--', alpha=0.5)\n",
        "plt.tight_layout()\n",
        "plt.show()\n"
      ],
      "metadata": {
        "colab": {
          "base_uri": "https://localhost:8080/",
          "height": 507
        },
        "id": "h2weBS4UbyW1",
        "outputId": "11217215-e0a1-4b93-8ec7-0787a44dda44"
      },
      "execution_count": null,
      "outputs": [
        {
          "output_type": "display_data",
          "data": {
            "text/plain": [
              "<Figure size 1000x500 with 1 Axes>"
            ],
            "image/png": "[encoded data removed]"
          },
          "metadata": {}
        }
      ]
    },
    {
      "cell_type": "code",
      "source": [
        "trainer.save_model(\"/content/event_model_final\")\n",
        "tokenizer.save_pretrained(\"/content/event_model_final\")\n"
      ],
      "metadata": {
        "colab": {
          "base_uri": "https://localhost:8080/"
        },
        "id": "0ajBqvMad4s9",
        "outputId": "ae98de04-e658-46d3-e90e-2d8bfc21970e"
      },
      "execution_count": null,
      "outputs": [
        {
          "output_type": "execute_result",
          "data": {
            "text/plain": [
              "('/content/event_model_final/tokenizer_config.json',\n",
              " '/content/event_model_final/special_tokens_map.json',\n",
              " '/content/event_model_final/vocab.txt',\n",
              " '/content/event_model_final/added_tokens.json',\n",
              " '/content/event_model_final/tokenizer.json')"
            ]
          },
          "metadata": {},
          "execution_count": 25
        }
      ]
    },
    {
      "cell_type": "code",
      "source": [
        "!zip -r /content/event_model_final.zip /content/event_model_final"
      ],
      "metadata": {
        "colab": {
          "base_uri": "https://localhost:8080/"
        },
        "id": "HzBVfqdZd9G5",
        "outputId": "a4c41f2a-ebc8-4f28-c916-30268125e8e5"
      },
      "execution_count": null,
      "outputs": [
        {
          "output_type": "stream",
          "name": "stdout",
          "text": [
            "  adding: content/event_model_final/ (stored 0%)\n",
            "  adding: content/event_model_final/config.json (deflated 61%)\n",
            "  adding: content/event_model_final/vocab.txt (deflated 53%)\n",
            "  adding: content/event_model_final/special_tokens_map.json (deflated 42%)\n",
            "  adding: content/event_model_final/tokenizer_config.json (deflated 75%)\n",
            "  adding: content/event_model_final/training_args.bin (deflated 52%)\n",
            "  adding: content/event_model_final/model.safetensors (deflated 7%)\n",
            "  adding: content/event_model_final/tokenizer.json (deflated 71%)\n"
          ]
        }
      ]
    },
    {
      "cell_type": "code",
      "source": [
        "from google.colab import files\n",
        "files.download(\"/content/event_model_final.zip\")\n"
      ],
      "metadata": {
        "colab": {
          "base_uri": "https://localhost:8080/",
          "height": 17
        },
        "id": "xZk_2uwOeGNt",
        "outputId": "a652bef8-ba4a-42e9-c9f9-50f7f8d0dfae"
      },
      "execution_count": null,
      "outputs": [
        {
          "output_type": "display_data",
          "data": {
            "text/plain": [
              "<IPython.core.display.Javascript object>"
            ],
            "application/javascript": [
              "\n",
              "    async function download(id, filename, size) {\n",
              "      if (!google.colab.kernel.accessAllowed) {\n",
              "        return;\n",
              "      }\n",
              "      const div = document.createElement('div');\n",
              "      const label = document.createElement('label');\n",
              "      label.textContent = `Downloading \"${filename}\": `;\n",
              "      div.appendChild(label);\n",
              "      const progress = document.createElement('progress');\n",
              "      progress.max = size;\n",
              "      div.appendChild(progress);\n",
              "      document.body.appendChild(div);\n",
              "\n",
              "      const buffers = [];\n",
              "      let downloaded = 0;\n",
              "\n",
              "      const channel = await google.colab.kernel.comms.open(id);\n",
              "      // Send a message to notify the kernel that we're ready.\n",
              "      channel.send({})\n",
              "\n",
              "      for await (const message of channel.messages) {\n",
              "        // Send a message to notify the kernel that we're ready.\n",
              "        channel.send({})\n",
              "        if (message.buffers) {\n",
              "          for (const buffer of message.buffers) {\n",
              "            buffers.push(buffer);\n",
              "            downloaded += buffer.byteLength;\n",
              "            progress.value = downloaded;\n",
              "          }\n",
              "        }\n",
              "      }\n",
              "      const blob = new Blob(buffers, {type: 'application/binary'});\n",
              "      const a = document.createElement('a');\n",
              "      a.href = window.URL.createObjectURL(blob);\n",
              "      a.download = filename;\n",
              "      div.appendChild(a);\n",
              "      a.click();\n",
              "      div.remove();\n",
              "    }\n",
              "  "
            ]
          },
          "metadata": {}
        },
        {
          "output_type": "display_data",
          "data": {
            "text/plain": [
              "<IPython.core.display.Javascript object>"
            ],
            "application/javascript": [
              "download(\"download_490d21d1-4133-4fc3-a739-f7077f08487d\", \"event_model_final.zip\", 403397044)"
            ]
          },
          "metadata": {}
        }
      ]
    },
    {
      "cell_type": "code",
      "source": [
        "#Pour recharger le modèle\n",
        "from transformers import AutoTokenizer, AutoModelForTokenClassification\n",
        "\n",
        "model = AutoModelForTokenClassification.from_pretrained(\"/chemin/vers/event_model_final\")\n",
        "tokenizer = AutoTokenizer.from_pretrained(\"/chemin/vers/event_model_final\")"
      ],
      "metadata": {
        "id": "XE1eRthue2bm"
      },
      "execution_count": null,
      "outputs": []
    },
    {
      "cell_type": "code",
      "source": [
        "from collections import Counter\n",
        "import matplotlib.pyplot as plt\n",
        "\n",
        "# 🔄 Compter les labels en fusionnant B- et I-\n",
        "entity_counter = Counter()\n",
        "\n",
        "for example in dataset:\n",
        "    for label in example[\"labels\"]:\n",
        "        if label != \"O\":\n",
        "            base_label = label.replace(\"B-\", \"\").replace(\"I-\", \"\")\n",
        "            entity_counter[base_label] += 1\n",
        "\n",
        "# 📦 Préparer les données\n",
        "labels = list(entity_counter.keys())\n",
        "counts = list(entity_counter.values())\n",
        "\n",
        "# 🎨 Affichage du barplot\n",
        "plt.figure(figsize=(10, 5))\n",
        "plt.bar(labels, counts, color='teal')\n",
        "plt.title(\"Répartition des entités annotées (fusion B- / I-)\")\n",
        "plt.ylabel(\"Nombre d'occurrences\")\n",
        "plt.xticks(rotation=45)\n",
        "plt.grid(axis='y', linestyle='--', alpha=0.5)\n",
        "plt.tight_layout()\n",
        "plt.show()\n"
      ],
      "metadata": {
        "colab": {
          "base_uri": "https://localhost:8080/",
          "height": 507
        },
        "id": "80RTJOHkfJ7m",
        "outputId": "c08080d1-8476-4672-ef41-0f55da9fd02d"
      },
      "execution_count": null,
      "outputs": [
        {
          "output_type": "display_data",
          "data": {
            "text/plain": [
              "<Figure size 1000x500 with 1 Axes>"
            ],
            "image/png": "[encoded data removed]"
          },
          "metadata": {}
        }
      ]
    },
    {
      "cell_type": "code",
      "source": [
        "lengths = [len(example[\"tokens\"]) for example in dataset]\n",
        "\n",
        "plt.figure(figsize=(10, 5))\n",
        "plt.hist(lengths, bins=30, color='cornflowerblue', edgecolor='black')\n",
        "plt.title(\"Distribution des longueurs de phrases (tokens)\")\n",
        "plt.xlabel(\"Nombre de tokens\")\n",
        "plt.ylabel(\"Nombre de phrases\")\n",
        "plt.grid(axis='y', linestyle='--', alpha=0.6)\n",
        "plt.tight_layout()\n",
        "plt.show()\n"
      ],
      "metadata": {
        "colab": {
          "base_uri": "https://localhost:8080/",
          "height": 507
        },
        "id": "IQH9n4WCfsdY",
        "outputId": "2193d308-44fe-4fe0-cc21-d3ee4a40a4ee"
      },
      "execution_count": null,
      "outputs": [
        {
          "output_type": "display_data",
          "data": {
            "text/plain": [
              "<Figure size 1000x500 with 1 Axes>"
            ],
            "image/png": "[encoded data removed]"
          },
          "metadata": {}
        }
      ]
    },
    {
      "cell_type": "code",
      "source": [
        "phrase_level_counter = Counter()\n",
        "\n",
        "for example in dataset:\n",
        "    labels_in_sentence = set(\n",
        "        label.replace(\"B-\", \"\").replace(\"I-\", \"\")\n",
        "        for label in example[\"labels\"]\n",
        "        if label != \"O\"\n",
        "    )\n",
        "    for label in labels_in_sentence:\n",
        "        phrase_level_counter[label] += 1\n",
        "\n",
        "labels = list(phrase_level_counter.keys())\n",
        "counts = list(phrase_level_counter.values())\n",
        "\n",
        "plt.figure(figsize=(10, 5))\n",
        "plt.bar(labels, counts, color='darkorange')\n",
        "plt.title(\"Nombre de phrases contenant au moins une entité\")\n",
        "plt.ylabel(\"Nombre de phrases\")\n",
        "plt.xticks(rotation=45)\n",
        "plt.grid(axis='y', linestyle='--', alpha=0.6)\n",
        "plt.tight_layout()\n",
        "plt.show()\n"
      ],
      "metadata": {
        "colab": {
          "base_uri": "https://localhost:8080/",
          "height": 507
        },
        "id": "pqqNzl8ufwVT",
        "outputId": "45aaccf0-54b0-4736-ede7-a2746d9d565a"
      },
      "execution_count": null,
      "outputs": [
        {
          "output_type": "display_data",
          "data": {
            "text/plain": [
              "<Figure size 1000x500 with 1 Axes>"
            ],
            "image/png": "[encoded data removed]"
          },
          "metadata": {}
        }
      ]
    },
    {
      "cell_type": "code",
      "source": [
        "from IPython.display import display, HTML\n",
        "\n",
        "# Fonction pour colorer les entités dans une phrase\n",
        "def highlight_entities(tokens, labels):\n",
        "    html = \"\"\n",
        "    current_label = None\n",
        "\n",
        "    for token, label in zip(tokens, labels):\n",
        "        base_label = label.replace(\"B-\", \"\").replace(\"I-\", \"\") if label != \"O\" else None\n",
        "        if label.startswith(\"B-\") or (label.startswith(\"I-\") and current_label != base_label):\n",
        "            if current_label:\n",
        "                html += \"</span> \"\n",
        "            html += f'<span style=\"background-color: blue; padding:2px; border-radius:3px;\"><strong>{token}</strong>'\n",
        "            current_label = base_label\n",
        "        elif label.startswith(\"I-\") and base_label == current_label:\n",
        "            html += f' {token}'\n",
        "        else:\n",
        "            if current_label:\n",
        "                html += \"</span> \"\n",
        "                current_label = None\n",
        "            html += f\"{token} \"\n",
        "\n",
        "    if current_label:\n",
        "        html += \"</span>\"\n",
        "\n",
        "    return html\n",
        "\n",
        "# Choisir un exemple contenant au moins une entité\n",
        "example = next(e for e in dataset if any(l != \"O\" for l in e[\"labels\"]))\n",
        "display(HTML(highlight_entities(example[\"tokens\"], example[\"labels\"])))\n"
      ],
      "metadata": {
        "colab": {
          "base_uri": "https://localhost:8080/",
          "height": 34
        },
        "id": "b0qwX3k3fzwk",
        "outputId": "042a8b7d-1e13-4860-a084-b2aea42d2ae7"
      },
      "execution_count": null,
      "outputs": [
        {
          "output_type": "display_data",
          "data": {
            "text/plain": [
              "<IPython.core.display.HTML object>"
            ],
            "text/html": [
              "Mozilla Firefox 1.0 , a free open-source web browser , has been <span style=\"background-color: blue; padding:2px; border-radius:3px;\"><strong>released</strong></span> on November 9 , 2004 by the Mozilla Foundation . "
            ]
          },
          "metadata": {}
        }
      ]
    },
    {
      "cell_type": "code",
      "source": [
        "import json\n",
        "\n",
        "# Créer une version exploitable pour R (phrases + labels)\n",
        "export_data = [{\"tokens\": ex[\"tokens\"], \"labels\": ex[\"labels\"]} for ex in dataset]\n",
        "\n",
        "# Sauvegarde locale dans ta session Colab\n",
        "with open(\"ner_data.json\", \"w\", encoding=\"utf-8\") as f:\n",
        "    json.dump(export_data, f, ensure_ascii=False, indent=2)\n"
      ],
      "metadata": {
        "id": "fiDcAjY5ge3W"
      },
      "execution_count": null,
      "outputs": []
    },
    {
      "cell_type": "markdown",
      "source": [
        "# Similarité de jacard"
      ],
      "metadata": {
        "id": "Kc0RJiqlyO6o"
      }
    },
    {
      "cell_type": "code",
      "source": [
        "import os\n",
        "import re\n",
        "from collections import Counter\n",
        "import numpy as np\n",
        "import matplotlib.pyplot as plt\n",
        "\n",
        "def clean_raw_label(label):\n",
        "    \"\"\"Nettoie les labels bruts (comme tu le faisais déjà).\"\"\"\n",
        "    return re.sub(r\"\\\\[\\d+\\\\]\", \"\", label.strip()).replace(\"\\\\_\", \"_\")\n",
        "\n",
        "def extract_event_categories_from_tsv(tsv_path):\n",
        "    \"\"\"\n",
        "    Extrait l'ensemble unique des catégories d'événements d'un fichier TSV.\n",
        "\n",
        "    Args:\n",
        "        tsv_path (str): Chemin vers le fichier TSV.\n",
        "\n",
        "    Returns:\n",
        "        set: Un ensemble de chaînes représentant les catégories d'événements.\n",
        "    \"\"\"\n",
        "\n",
        "    event_categories = set()\n",
        "    with open(tsv_path, encoding=\"utf-8\") as f:\n",
        "        for line in f:\n",
        "            if line.startswith(\"#\") or not line.strip():\n",
        "                continue\n",
        "            parts = line.strip().split(\"\\t\")\n",
        "            if len(parts) >= 4:\n",
        "                raw_label = parts[3]\n",
        "                cleaned_label = clean_raw_label(raw_label)\n",
        "                if cleaned_label != \"O\" and cleaned_label:  # Exclure 'O' et les labels vides\n",
        "                    event_categories.add(cleaned_label)\n",
        "    return event_categories\n",
        "\n",
        "def process_all_tsv_in_dir(tsv_dir):\n",
        "    \"\"\"\n",
        "    Parcourt tous les fichiers TSV dans un répertoire et extrait les catégories d'événements.\n",
        "\n",
        "    Args:\n",
        "        tsv_dir (str): Chemin vers le répertoire contenant les fichiers TSV.\n",
        "\n",
        "    Returns:\n",
        "        list: Une liste d'ensembles, où chaque ensemble représente les catégories d'un fichier TSV.\n",
        "    \"\"\"\n",
        "\n",
        "    all_categories = []\n",
        "    for root, _, files in os.walk(tsv_dir):\n",
        "        for file in files:\n",
        "            if file == \"MBY3.tsv\":  # Ou toute autre condition pour sélectionner tes fichiers\n",
        "                tsv_path = os.path.join(root, file)\n",
        "                categories = extract_event_categories_from_tsv(tsv_path)\n",
        "                all_categories.append(categories)\n",
        "    return all_categories\n",
        "\n",
        "def jaccard_similarity(A, B):\n",
        "    intersection = len(A.intersection(B))\n",
        "    union = len(A.union(B))\n",
        "    if union == 0:\n",
        "        return 0.0\n",
        "    else:\n",
        "        return intersection / union\n",
        "\n",
        "# 1. Extraction des catégories depuis les fichiers TSV\n",
        "tsv_dir = \"/content/drive/MyDrive/annotation/\"  # Remplace par le chemin de ton dossier\n",
        "all_text_categories = process_all_tsv_in_dir(tsv_dir)\n",
        "\n",
        "# 2. Calcul des similarités\n",
        "num_texts = len(all_text_categories)\n",
        "similarity_matrix = np.zeros((num_texts, num_texts))\n",
        "\n",
        "for i in range(num_texts):\n",
        "    for j in range(num_texts):\n",
        "        similarity_matrix[i, j] = jaccard_similarity(all_text_categories[i], all_text_categories[j])\n",
        "\n",
        "print(\"\\nMatrice de similarité :\")\n",
        "print(similarity_matrix)\n",
        "\n",
        "# 3. Visualisation (exemple)\n",
        "plt.figure(figsize=(8, 8))\n",
        "plt.imshow(similarity_matrix, cmap=\"viridis\", interpolation=\"nearest\")\n",
        "plt.colorbar(label=\"Similarité de Jaccard\")\n",
        "plt.title(\"Similarité de Jaccard entre les textes (par catégories d'événements)\")\n",
        "plt.xlabel(\"Texte Index\")\n",
        "plt.ylabel(\"Texte Index\")\n",
        "plt.show()"
      ],
      "metadata": {
        "colab": {
          "base_uri": "https://localhost:8080/",
          "height": 822
        },
        "id": "50aUBAH3xp-H",
        "outputId": "fc658537-ebf2-4a71-bc13-439f34ea0fbd"
      },
      "execution_count": null,
      "outputs": [
        {
          "output_type": "stream",
          "name": "stdout",
          "text": [
            "\n",
            "Matrice de similarité :\n",
            "[[1.         0.14285714 0.11111111 ... 0.         0.         0.42857143]\n",
            " [0.14285714 1.         0.14285714 ... 0.         0.         0.14285714]\n",
            " [0.11111111 0.14285714 1.         ... 0.         0.         0.11111111]\n",
            " ...\n",
            " [0.         0.         0.         ... 0.         0.         0.        ]\n",
            " [0.         0.         0.         ... 0.         0.         0.        ]\n",
            " [0.42857143 0.14285714 0.11111111 ... 0.         0.         1.        ]]\n"
          ]
        },
        {
          "output_type": "display_data",
          "data": {
            "text/plain": [
              "<Figure size 800x800 with 2 Axes>"
            ],
            "image/png": "[encoded data removed]"
          },
          "metadata": {}
        }
      ]
    },
    {
      "cell_type": "code",
      "source": [
        "import os\n",
        "import re\n",
        "from collections import defaultdict\n",
        "\n",
        "def clean_raw_label(label):\n",
        "    label = label.strip()\n",
        "    label = re.sub(r\"\\[\\d+\\]\", \"\", label)  # supprime les [1], [2], etc.\n",
        "    label = label.replace(\"\\\\_\", \"_\")\n",
        "    return label\n",
        "\n",
        "def build_text_event_mapping(tsv_root):\n",
        "    text_events = defaultdict(set)\n",
        "\n",
        "    for root, _, files in os.walk(tsv_root):\n",
        "        for file in files:\n",
        "            if file == \"MBY3.tsv\":\n",
        "                text_id = os.path.basename(root)\n",
        "                path = os.path.join(root, file)\n",
        "                with open(path, encoding=\"utf-8\") as f:\n",
        "                    for line in f:\n",
        "                        if line.startswith(\"#\") or not line.strip():\n",
        "                            continue\n",
        "                        parts = line.strip().split(\"\\t\")\n",
        "                        if len(parts) >= 4:\n",
        "                            raw_label = parts[3]\n",
        "                            if raw_label and raw_label != \"_\":\n",
        "                                cleaned = clean_raw_label(raw_label)\n",
        "                                text_events[text_id].add(cleaned)\n",
        "    return text_events\n",
        "\n",
        "# 🔁 Lance ça avec ton chemin réel\n",
        "tsv_root = \"/content/drive/MyDrive/annotation100\"\n",
        "text_events = build_text_event_mapping(tsv_root)\n"
      ],
      "metadata": {
        "id": "buRExGKW1cID"
      },
      "execution_count": null,
      "outputs": []
    },
    {
      "cell_type": "code",
      "source": [
        "import pandas as pd\n",
        "from itertools import combinations\n",
        "\n",
        "def jaccard_similarity(set1, set2):\n",
        "    return len(set1 & set2) / len(set1 | set2) if set1 | set2 else 0\n",
        "\n",
        "text_ids = list(text_events.keys())\n",
        "similarity_matrix = pd.DataFrame(index=text_ids, columns=text_ids, dtype=float)\n",
        "\n",
        "for id1, id2 in combinations(text_ids, 2):\n",
        "    sim = jaccard_similarity(text_events[id1], text_events[id2])\n",
        "    similarity_matrix.loc[id1, id2] = sim\n",
        "    similarity_matrix.loc[id2, id1] = sim\n",
        "\n",
        "for id in text_ids:\n",
        "    similarity_matrix.loc[id, id] = 1.0\n",
        "\n",
        "# 📊 Afficher un aperçu\n",
        "similarity_matrix.head()\n"
      ],
      "metadata": {
        "colab": {
          "base_uri": "https://localhost:8080/",
          "height": 255
        },
        "id": "duAukGNG1daS",
        "outputId": "fa56f171-063a-49f1-f424-f0fe22a635dc"
      },
      "execution_count": null,
      "outputs": [
        {
          "output_type": "execute_result",
          "data": {
            "text/plain": [
              "                article_20.txt  article_17.txt  article_16.txt  \\\n",
              "article_20.txt             1.0             0.0             0.0   \n",
              "article_17.txt             0.0             1.0             0.5   \n",
              "article_16.txt             0.0             0.5             1.0   \n",
              "article_23.txt             0.0             1.0             0.5   \n",
              "article_22.txt             0.0             0.0             0.0   \n",
              "\n",
              "                article_23.txt  article_22.txt  article_19.txt  \\\n",
              "article_20.txt             0.0             0.0             0.0   \n",
              "article_17.txt             1.0             0.0             1.0   \n",
              "article_16.txt             0.5             0.0             0.5   \n",
              "article_23.txt             1.0             0.0             1.0   \n",
              "article_22.txt             0.0             1.0             0.0   \n",
              "\n",
              "                article_21.txt  text_11.txt  article_26.txt  article_30.txt  \\\n",
              "article_20.txt        0.000000          0.0             0.0             0.0   \n",
              "article_17.txt        0.500000          0.0             1.0             0.0   \n",
              "article_16.txt        0.333333          0.0             0.5             0.0   \n",
              "article_23.txt        0.500000          0.0             1.0             0.0   \n",
              "article_22.txt        0.000000          0.0             0.0             0.0   \n",
              "\n",
              "                ...  text_87.txt  text_83.txt  text_97.txt  text_92.txt  \\\n",
              "article_20.txt  ...     0.000000          1.0     0.000000          1.0   \n",
              "article_17.txt  ...     0.500000          0.0     0.500000          0.0   \n",
              "article_16.txt  ...     0.333333          0.0     0.333333          0.0   \n",
              "article_23.txt  ...     0.500000          0.0     0.500000          0.0   \n",
              "article_22.txt  ...     0.000000          0.0     0.000000          0.0   \n",
              "\n",
              "                text_98.txt  text_90.txt  text_9.txt  text_96.txt  \\\n",
              "article_20.txt          0.0     0.000000         0.0          0.0   \n",
              "article_17.txt          1.0     0.500000         1.0          0.0   \n",
              "article_16.txt          0.5     0.333333         0.5          0.0   \n",
              "article_23.txt          1.0     0.500000         1.0          0.0   \n",
              "article_22.txt          0.0     0.000000         0.0          1.0   \n",
              "\n",
              "                text_91.txt  text_99.txt  \n",
              "article_20.txt     0.000000          0.0  \n",
              "article_17.txt     0.500000          1.0  \n",
              "article_16.txt     0.333333          0.5  \n",
              "article_23.txt     0.500000          1.0  \n",
              "article_22.txt     0.000000          0.0  \n",
              "\n",
              "[5 rows x 87 columns]"
            ],
            "text/html": [
              "\n",
              "  <div id=\"df-bb68a1e2-040f-4dbf-b008-a53dd5a78a08\" class=\"colab-df-container\">\n",
              "    <div>\n",
              "<style scoped>\n",
              "    .dataframe tbody tr th:only-of-type {\n",
              "        vertical-align: middle;\n",
              "    }\n",
              "\n",
              "    .dataframe tbody tr th {\n",
              "        vertical-align: top;\n",
              "    }\n",
              "\n",
              "    .dataframe thead th {\n",
              "        text-align: right;\n",
              "    }\n",
              "</style>\n",
              "<table border=\"1\" class=\"dataframe\">\n",
              "  <thead>\n",
              "    <tr style=\"text-align: right;\">\n",
              "      <th></th>\n",
              "      <th>article_20.txt</th>\n",
              "      <th>article_17.txt</th>\n",
              "      <th>article_16.txt</th>\n",
              "      <th>article_23.txt</th>\n",
              "      <th>article_22.txt</th>\n",
              "      <th>article_19.txt</th>\n",
              "      <th>article_21.txt</th>\n",
              "      <th>text_11.txt</th>\n",
              "      <th>article_26.txt</th>\n",
              "      <th>article_30.txt</th>\n",
              "      <th>...</th>\n",
              "      <th>text_87.txt</th>\n",
              "      <th>text_83.txt</th>\n",
              "      <th>text_97.txt</th>\n",
              "      <th>text_92.txt</th>\n",
              "      <th>text_98.txt</th>\n",
              "      <th>text_90.txt</th>\n",
              "      <th>text_9.txt</th>\n",
              "      <th>text_96.txt</th>\n",
              "      <th>text_91.txt</th>\n",
              "      <th>text_99.txt</th>\n",
              "    </tr>\n",
              "  </thead>\n",
              "  <tbody>\n",
              "    <tr>\n",
              "      <th>article_20.txt</th>\n",
              "      <td>1.0</td>\n",
              "      <td>0.0</td>\n",
              "      <td>0.0</td>\n",
              "      <td>0.0</td>\n",
              "      <td>0.0</td>\n",
              "      <td>0.0</td>\n",
              "      <td>0.000000</td>\n",
              "      <td>0.0</td>\n",
              "      <td>0.0</td>\n",
              "      <td>0.0</td>\n",
              "      <td>...</td>\n",
              "      <td>0.000000</td>\n",
              "      <td>1.0</td>\n",
              "      <td>0.000000</td>\n",
              "      <td>1.0</td>\n",
              "      <td>0.0</td>\n",
              "      <td>0.000000</td>\n",
              "      <td>0.0</td>\n",
              "      <td>0.0</td>\n",
              "      <td>0.000000</td>\n",
              "      <td>0.0</td>\n",
              "    </tr>\n",
              "    <tr>\n",
              "      <th>article_17.txt</th>\n",
              "      <td>0.0</td>\n",
              "      <td>1.0</td>\n",
              "      <td>0.5</td>\n",
              "      <td>1.0</td>\n",
              "      <td>0.0</td>\n",
              "      <td>1.0</td>\n",
              "      <td>0.500000</td>\n",
              "      <td>0.0</td>\n",
              "      <td>1.0</td>\n",
              "      <td>0.0</td>\n",
              "      <td>...</td>\n",
              "      <td>0.500000</td>\n",
              "      <td>0.0</td>\n",
              "      <td>0.500000</td>\n",
              "      <td>0.0</td>\n",
              "      <td>1.0</td>\n",
              "      <td>0.500000</td>\n",
              "      <td>1.0</td>\n",
              "      <td>0.0</td>\n",
              "      <td>0.500000</td>\n",
              "      <td>1.0</td>\n",
              "    </tr>\n",
              "    <tr>\n",
              "      <th>article_16.txt</th>\n",
              "      <td>0.0</td>\n",
              "      <td>0.5</td>\n",
              "      <td>1.0</td>\n",
              "      <td>0.5</td>\n",
              "      <td>0.0</td>\n",
              "      <td>0.5</td>\n",
              "      <td>0.333333</td>\n",
              "      <td>0.0</td>\n",
              "      <td>0.5</td>\n",
              "      <td>0.0</td>\n",
              "      <td>...</td>\n",
              "      <td>0.333333</td>\n",
              "      <td>0.0</td>\n",
              "      <td>0.333333</td>\n",
              "      <td>0.0</td>\n",
              "      <td>0.5</td>\n",
              "      <td>0.333333</td>\n",
              "      <td>0.5</td>\n",
              "      <td>0.0</td>\n",
              "      <td>0.333333</td>\n",
              "      <td>0.5</td>\n",
              "    </tr>\n",
              "    <tr>\n",
              "      <th>article_23.txt</th>\n",
              "      <td>0.0</td>\n",
              "      <td>1.0</td>\n",
              "      <td>0.5</td>\n",
              "      <td>1.0</td>\n",
              "      <td>0.0</td>\n",
              "      <td>1.0</td>\n",
              "      <td>0.500000</td>\n",
              "      <td>0.0</td>\n",
              "      <td>1.0</td>\n",
              "      <td>0.0</td>\n",
              "      <td>...</td>\n",
              "      <td>0.500000</td>\n",
              "      <td>0.0</td>\n",
              "      <td>0.500000</td>\n",
              "      <td>0.0</td>\n",
              "      <td>1.0</td>\n",
              "      <td>0.500000</td>\n",
              "      <td>1.0</td>\n",
              "      <td>0.0</td>\n",
              "      <td>0.500000</td>\n",
              "      <td>1.0</td>\n",
              "    </tr>\n",
              "    <tr>\n",
              "      <th>article_22.txt</th>\n",
              "      <td>0.0</td>\n",
              "      <td>0.0</td>\n",
              "      <td>0.0</td>\n",
              "      <td>0.0</td>\n",
              "      <td>1.0</td>\n",
              "      <td>0.0</td>\n",
              "      <td>0.000000</td>\n",
              "      <td>0.0</td>\n",
              "      <td>0.0</td>\n",
              "      <td>0.0</td>\n",
              "      <td>...</td>\n",
              "      <td>0.000000</td>\n",
              "      <td>0.0</td>\n",
              "      <td>0.000000</td>\n",
              "      <td>0.0</td>\n",
              "      <td>0.0</td>\n",
              "      <td>0.000000</td>\n",
              "      <td>0.0</td>\n",
              "      <td>1.0</td>\n",
              "      <td>0.000000</td>\n",
              "      <td>0.0</td>\n",
              "    </tr>\n",
              "  </tbody>\n",
              "</table>\n",
              "<p>5 rows × 87 columns</p>\n",
              "</div>\n",
              "    <div class=\"colab-df-buttons\">\n",
              "\n",
              "  <div class=\"colab-df-container\">\n",
              "    <button class=\"colab-df-convert\" onclick=\"convertToInteractive('df-bb68a1e2-040f-4dbf-b008-a53dd5a78a08')\"\n",
              "            title=\"Convert this dataframe to an interactive table.\"\n",
              "            style=\"display:none;\">\n",
              "\n",
              "  <svg xmlns=\"http://www.w3.org/2000/svg\" height=\"24px\" viewBox=\"0 -960 960 960\">\n",
              "    <path d=\"M120-120v-720h720v720H120Zm60-500h600v-160H180v160Zm220 220h160v-160H400v160Zm0 220h160v-160H400v160ZM180-400h160v-160H180v160Zm440 0h160v-160H620v160ZM180-180h160v-160H180v160Zm440 0h160v-160H620v160Z\"/>\n",
              "  </svg>\n",
              "    </button>\n",
              "\n",
              "  <style>\n",
              "    .colab-df-container {\n",
              "      display:flex;\n",
              "      gap: 12px;\n",
              "    }\n",
              "\n",
              "    .colab-df-convert {\n",
              "      background-color: #E8F0FE;\n",
              "      border: none;\n",
              "      border-radius: 50%;\n",
              "      cursor: pointer;\n",
              "      display: none;\n",
              "      fill: #1967D2;\n",
              "      height: 32px;\n",
              "      padding: 0 0 0 0;\n",
              "      width: 32px;\n",
              "    }\n",
              "\n",
              "    .colab-df-convert:hover {\n",
              "      background-color: #E2EBFA;\n",
              "      box-shadow: 0px 1px 2px rgba(60, 64, 67, 0.3), 0px 1px 3px 1px rgba(60, 64, 67, 0.15);\n",
              "      fill: #174EA6;\n",
              "    }\n",
              "\n",
              "    .colab-df-buttons div {\n",
              "      margin-bottom: 4px;\n",
              "    }\n",
              "\n",
              "    [theme=dark] .colab-df-convert {\n",
              "      background-color: #3B4455;\n",
              "      fill: #D2E3FC;\n",
              "    }\n",
              "\n",
              "    [theme=dark] .colab-df-convert:hover {\n",
              "      background-color: #434B5C;\n",
              "      box-shadow: 0px 1px 3px 1px rgba(0, 0, 0, 0.15);\n",
              "      filter: drop-shadow(0px 1px 2px rgba(0, 0, 0, 0.3));\n",
              "      fill: #FFFFFF;\n",
              "    }\n",
              "  </style>\n",
              "\n",
              "    <script>\n",
              "      const buttonEl =\n",
              "        document.querySelector('#df-bb68a1e2-040f-4dbf-b008-a53dd5a78a08 button.colab-df-convert');\n",
              "      buttonEl.style.display =\n",
              "        google.colab.kernel.accessAllowed ? 'block' : 'none';\n",
              "\n",
              "      async function convertToInteractive(key) {\n",
              "        const element = document.querySelector('#df-bb68a1e2-040f-4dbf-b008-a53dd5a78a08');\n",
              "        const dataTable =\n",
              "          await google.colab.kernel.invokeFunction('convertToInteractive',\n",
              "                                                    [key], {});\n",
              "        if (!dataTable) return;\n",
              "\n",
              "        const docLinkHtml = 'Like what you see? Visit the ' +\n",
              "          '<a target=\"_blank\" href=https://colab.research.google.com/notebooks/data_table.ipynb>data table notebook</a>'\n",
              "          + ' to learn more about interactive tables.';\n",
              "        element.innerHTML = '';\n",
              "        dataTable['output_type'] = 'display_data';\n",
              "        await google.colab.output.renderOutput(dataTable, element);\n",
              "        const docLink = document.createElement('div');\n",
              "        docLink.innerHTML = docLinkHtml;\n",
              "        element.appendChild(docLink);\n",
              "      }\n",
              "    </script>\n",
              "  </div>\n",
              "\n",
              "\n",
              "<div id=\"df-7c50af3e-7a30-4e3e-a502-81d39518f420\">\n",
              "  <button class=\"colab-df-quickchart\" onclick=\"quickchart('df-7c50af3e-7a30-4e3e-a502-81d39518f420')\"\n",
              "            title=\"Suggest charts\"\n",
              "            style=\"display:none;\">\n",
              "\n",
              "<svg xmlns=\"http://www.w3.org/2000/svg\" height=\"24px\"viewBox=\"0 0 24 24\"\n",
              "     width=\"24px\">\n",
              "    <g>\n",
              "        <path d=\"M19 3H5c-1.1 0-2 .9-2 2v14c0 1.1.9 2 2 2h14c1.1 0 2-.9 2-2V5c0-1.1-.9-2-2-2zM9 17H7v-7h2v7zm4 0h-2V7h2v10zm4 0h-2v-4h2v4z\"/>\n",
              "    </g>\n",
              "</svg>\n",
              "  </button>\n",
              "\n",
              "<style>\n",
              "  .colab-df-quickchart {\n",
              "      --bg-color: #E8F0FE;\n",
              "      --fill-color: #1967D2;\n",
              "      --hover-bg-color: #E2EBFA;\n",
              "      --hover-fill-color: #174EA6;\n",
              "      --disabled-fill-color: #AAA;\n",
              "      --disabled-bg-color: #DDD;\n",
              "  }\n",
              "\n",
              "  [theme=dark] .colab-df-quickchart {\n",
              "      --bg-color: #3B4455;\n",
              "      --fill-color: #D2E3FC;\n",
              "      --hover-bg-color: #434B5C;\n",
              "      --hover-fill-color: #FFFFFF;\n",
              "      --disabled-bg-color: #3B4455;\n",
              "      --disabled-fill-color: #666;\n",
              "  }\n",
              "\n",
              "  .colab-df-quickchart {\n",
              "    background-color: var(--bg-color);\n",
              "    border: none;\n",
              "    border-radius: 50%;\n",
              "    cursor: pointer;\n",
              "    display: none;\n",
              "    fill: var(--fill-color);\n",
              "    height: 32px;\n",
              "    padding: 0;\n",
              "    width: 32px;\n",
              "  }\n",
              "\n",
              "  .colab-df-quickchart:hover {\n",
              "    background-color: var(--hover-bg-color);\n",
              "    box-shadow: 0 1px 2px rgba(60, 64, 67, 0.3), 0 1px 3px 1px rgba(60, 64, 67, 0.15);\n",
              "    fill: var(--button-hover-fill-color);\n",
              "  }\n",
              "\n",
              "  .colab-df-quickchart-complete:disabled,\n",
              "  .colab-df-quickchart-complete:disabled:hover {\n",
              "    background-color: var(--disabled-bg-color);\n",
              "    fill: var(--disabled-fill-color);\n",
              "    box-shadow: none;\n",
              "  }\n",
              "\n",
              "  .colab-df-spinner {\n",
              "    border: 2px solid var(--fill-color);\n",
              "    border-color: transparent;\n",
              "    border-bottom-color: var(--fill-color);\n",
              "    animation:\n",
              "      spin 1s steps(1) infinite;\n",
              "  }\n",
              "\n",
              "  @keyframes spin {\n",
              "    0% {\n",
              "      border-color: transparent;\n",
              "      border-bottom-color: var(--fill-color);\n",
              "      border-left-color: var(--fill-color);\n",
              "    }\n",
              "    20% {\n",
              "      border-color: transparent;\n",
              "      border-left-color: var(--fill-color);\n",
              "      border-top-color: var(--fill-color);\n",
              "    }\n",
              "    30% {\n",
              "      border-color: transparent;\n",
              "      border-left-color: var(--fill-color);\n",
              "      border-top-color: var(--fill-color);\n",
              "      border-right-color: var(--fill-color);\n",
              "    }\n",
              "    40% {\n",
              "      border-color: transparent;\n",
              "      border-right-color: var(--fill-color);\n",
              "      border-top-color: var(--fill-color);\n",
              "    }\n",
              "    60% {\n",
              "      border-color: transparent;\n",
              "      border-right-color: var(--fill-color);\n",
              "    }\n",
              "    80% {\n",
              "      border-color: transparent;\n",
              "      border-right-color: var(--fill-color);\n",
              "      border-bottom-color: var(--fill-color);\n",
              "    }\n",
              "    90% {\n",
              "      border-color: transparent;\n",
              "      border-bottom-color: var(--fill-color);\n",
              "    }\n",
              "  }\n",
              "</style>\n",
              "\n",
              "  <script>\n",
              "    async function quickchart(key) {\n",
              "      const quickchartButtonEl =\n",
              "        document.querySelector('#' + key + ' button');\n",
              "      quickchartButtonEl.disabled = true;  // To prevent multiple clicks.\n",
              "      quickchartButtonEl.classList.add('colab-df-spinner');\n",
              "      try {\n",
              "        const charts = await google.colab.kernel.invokeFunction(\n",
              "            'suggestCharts', [key], {});\n",
              "      } catch (error) {\n",
              "        console.error('Error during call to suggestCharts:', error);\n",
              "      }\n",
              "      quickchartButtonEl.classList.remove('colab-df-spinner');\n",
              "      quickchartButtonEl.classList.add('colab-df-quickchart-complete');\n",
              "    }\n",
              "    (() => {\n",
              "      let quickchartButtonEl =\n",
              "        document.querySelector('#df-7c50af3e-7a30-4e3e-a502-81d39518f420 button');\n",
              "      quickchartButtonEl.style.display =\n",
              "        google.colab.kernel.accessAllowed ? 'block' : 'none';\n",
              "    })();\n",
              "  </script>\n",
              "</div>\n",
              "\n",
              "    </div>\n",
              "  </div>\n"
            ],
            "application/vnd.google.colaboratory.intrinsic+json": {
              "type": "dataframe",
              "variable_name": "similarity_matrix"
            }
          },
          "metadata": {},
          "execution_count": 19
        }
      ]
    },
    {
      "cell_type": "code",
      "source": [
        "!pip install -q upsetplot\n"
      ],
      "metadata": {
        "id": "OMzLXtTw4lE3",
        "colab": {
          "base_uri": "https://localhost:8080/"
        },
        "outputId": "25c8e5c6-4eb3-4de6-a135-e989506b12a3"
      },
      "execution_count": null,
      "outputs": [
        {
          "output_type": "stream",
          "name": "stdout",
          "text": [
            "  Installing build dependencies ... \u001b[?25l\u001b[?25hdone\n",
            "  Getting requirements to build wheel ... \u001b[?25l\u001b[?25hdone\n",
            "  Preparing metadata (pyproject.toml) ... \u001b[?25l\u001b[?25hdone\n",
            "  Building wheel for upsetplot (pyproject.toml) ... \u001b[?25l\u001b[?25hdone\n"
          ]
        }
      ]
    },
    {
      "cell_type": "code",
      "source": [
        "from upsetplot import UpSet, from_memberships\n",
        "import matplotlib.pyplot as plt\n",
        "\n",
        "# 🚫 Événements à ignorer\n",
        "events_to_exclude = {\"*\", \"Conflit politique\", \"Government_Decision\"}\n",
        "\n",
        "# 🔄 Nettoyage des événements dans chaque texte\n",
        "text_events_cleaned = {\n",
        "    k: {e for e in v if e not in events_to_exclude}\n",
        "    for k, v in text_events.items()\n",
        "}\n",
        "\n",
        "# 🔄 Construire une liste des combinaisons d'événements filtrés\n",
        "memberships = [tuple(sorted(events)) for events in text_events_cleaned.values() if events]\n",
        "data = from_memberships(memberships)\n",
        "\n",
        "# 📈 UpSet plot\n",
        "plt.figure(figsize=(10,6))\n",
        "UpSet(data, subset_size='count', show_counts=True).plot()\n",
        "plt.suptitle(\"Chevauchement des catégories d'événements entre les textes (filtrés)\")\n",
        "plt.show()\n"
      ],
      "metadata": {
        "colab": {
          "base_uri": "https://localhost:8080/",
          "height": 1000
        },
        "id": "wQOnUXjZ1gfA",
        "outputId": "7903c84f-df0b-44c6-c858-34063236a46f"
      },
      "execution_count": null,
      "outputs": [
        {
          "output_type": "stream",
          "name": "stderr",
          "text": [
            "/usr/local/lib/python3.11/dist-packages/upsetplot/data.py:303: FutureWarning: Downcasting object dtype arrays on .fillna, .ffill, .bfill is deprecated and will change in a future version. Call result.infer_objects(copy=False) instead. To opt-in to the future behavior, set `pd.set_option('future.no_silent_downcasting', True)`\n",
            "  df.fillna(False, inplace=True)\n",
            "/usr/local/lib/python3.11/dist-packages/upsetplot/plotting.py:795: FutureWarning: A value is trying to be set on a copy of a DataFrame or Series through chained assignment using an inplace method.\n",
            "The behavior will change in pandas 3.0. This inplace method will never work because the intermediate object on which we are setting values always behaves as a copy.\n",
            "\n",
            "For example, when doing 'df[col].method(value, inplace=True)', try using 'df.method({col: value}, inplace=True)' or df[col] = df[col].method(value) instead, to perform the operation inplace on the original object.\n",
            "\n",
            "\n",
            "  styles[\"linewidth\"].fillna(1, inplace=True)\n",
            "/usr/local/lib/python3.11/dist-packages/upsetplot/plotting.py:796: FutureWarning: A value is trying to be set on a copy of a DataFrame or Series through chained assignment using an inplace method.\n",
            "The behavior will change in pandas 3.0. This inplace method will never work because the intermediate object on which we are setting values always behaves as a copy.\n",
            "\n",
            "For example, when doing 'df[col].method(value, inplace=True)', try using 'df.method({col: value}, inplace=True)' or df[col] = df[col].method(value) instead, to perform the operation inplace on the original object.\n",
            "\n",
            "\n",
            "  styles[\"facecolor\"].fillna(self._facecolor, inplace=True)\n",
            "/usr/local/lib/python3.11/dist-packages/upsetplot/plotting.py:797: FutureWarning: A value is trying to be set on a copy of a DataFrame or Series through chained assignment using an inplace method.\n",
            "The behavior will change in pandas 3.0. This inplace method will never work because the intermediate object on which we are setting values always behaves as a copy.\n",
            "\n",
            "For example, when doing 'df[col].method(value, inplace=True)', try using 'df.method({col: value}, inplace=True)' or df[col] = df[col].method(value) instead, to perform the operation inplace on the original object.\n",
            "\n",
            "\n",
            "  styles[\"edgecolor\"].fillna(styles[\"facecolor\"], inplace=True)\n",
            "/usr/local/lib/python3.11/dist-packages/upsetplot/plotting.py:798: FutureWarning: A value is trying to be set on a copy of a DataFrame or Series through chained assignment using an inplace method.\n",
            "The behavior will change in pandas 3.0. This inplace method will never work because the intermediate object on which we are setting values always behaves as a copy.\n",
            "\n",
            "For example, when doing 'df[col].method(value, inplace=True)', try using 'df.method({col: value}, inplace=True)' or df[col] = df[col].method(value) instead, to perform the operation inplace on the original object.\n",
            "\n",
            "\n",
            "  styles[\"linestyle\"].fillna(\"solid\", inplace=True)\n"
          ]
        },
        {
          "output_type": "display_data",
          "data": {
            "text/plain": [
              "<Figure size 1000x600 with 0 Axes>"
            ]
          },
          "metadata": {}
        },
        {
          "output_type": "display_data",
          "data": {
            "text/plain": [
              "<Figure size 977.778x488.889 with 4 Axes>"
            ],
            "image/png": "[encoded data removed]"
          },
          "metadata": {}
        }
      ]
    }
  ]
}